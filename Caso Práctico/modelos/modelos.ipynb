{
 "cells": [
  {
   "cell_type": "code",
   "execution_count": 6,
   "metadata": {},
   "outputs": [],
   "source": [
    "import pandas as pd\n",
    "import numpy as np\n",
    "import matplotlib.pyplot as plt\n",
    "import seaborn as sns\n",
    "from sklearn.model_selection import train_test_split\n",
    "from sklearn.metrics import (\n",
    "    accuracy_score,\n",
    "    precision_score,\n",
    "    recall_score,\n",
    "    confusion_matrix,\n",
    "    classification_report,\n",
    "    roc_curve,\n",
    "    roc_auc_score,\n",
    ")\n",
    "from sklearn.linear_model import LogisticRegression\n",
    "from sklearn.ensemble import RandomForestClassifier, GradientBoostingClassifier\n",
    "from sklearn.svm import SVC\n",
    "from sklearn.neighbors import KNeighborsClassifier\n",
    "from sklearn.preprocessing import StandardScaler\n",
    "from sklearn.compose import ColumnTransformer"
   ]
  },
  {
   "cell_type": "code",
   "execution_count": 11,
   "metadata": {},
   "outputs": [],
   "source": [
    "# Cargamos los datos\n",
    "car_data = pd.read_csv('../data/car_data_clean.csv', sep=',')"
   ]
  },
  {
   "cell_type": "code",
   "execution_count": 12,
   "metadata": {},
   "outputs": [
    {
     "name": "stdout",
     "output_type": "stream",
     "text": [
      "Index(['PRODUCTO', 'TIPO_CARROCERIA', 'COMBUSTIBLE', 'Potencia_', 'TRANS',\n",
      "       'FORMA_PAGO', 'ESTADO_CIVIL', 'GENERO', 'Campanna1', 'Campanna2',\n",
      "       'Campanna3', 'Zona _Renta', 'REV_Garantia', 'Averia_grave', 'QUEJA_CAC',\n",
      "       'COSTE_VENTA', 'km_anno', 'Mas_1_coche', 'Revisiones'],\n",
      "      dtype='object')\n"
     ]
    }
   ],
   "source": [
    "print(car_data.columns)\n"
   ]
  },
  {
   "cell_type": "code",
   "execution_count": 13,
   "metadata": {},
   "outputs": [],
   "source": [
    "# Definimos las variables predictoras y la variable objetivo\n",
    "X = car_data.drop(labels=['Mas_1_coche'], axis=1)\n",
    "y = car_data['Mas_1_coche']"
   ]
  },
  {
   "cell_type": "code",
   "execution_count": 14,
   "metadata": {},
   "outputs": [],
   "source": [
    "# Estandarizamos los datos\n",
    "\n",
    "# 1º Filtramos las cols que tengan valores mayores a 1\n",
    "cols = [col for col in X.columns if X[col].max() > 1]\n",
    "\n",
    "# 2º Se recorren las columnas especificadas y se escala cada una\n",
    "for col in cols:\n",
    "    X[col] = scale(X[col])"
   ]
  },
  {
   "cell_type": "code",
   "execution_count": 15,
   "metadata": {},
   "outputs": [],
   "source": [
    "# Dividimos los datos en entrenamiento y test\n",
    "X_train, X_test, y_train, y_test = train_test_split(X, y, test_size=0.3, random_state=42, stratify=y)"
   ]
  },
  {
   "cell_type": "code",
   "execution_count": 16,
   "metadata": {},
   "outputs": [],
   "source": [
    "# Entrenamos el modelo de Gradient Boosting\n",
    "gb_model = GradientBoostingClassifier(random_state=912)\n",
    "gb_model.fit(X_train, y_train)\n",
    "gb_pred = gb_model.predict(X_test)"
   ]
  },
  {
   "cell_type": "code",
   "execution_count": 17,
   "metadata": {},
   "outputs": [
    {
     "ename": "NameError",
     "evalue": "name 'xgb' is not defined",
     "output_type": "error",
     "traceback": [
      "\u001b[0;31m---------------------------------------------------------------------------\u001b[0m",
      "\u001b[0;31mNameError\u001b[0m                                 Traceback (most recent call last)",
      "Cell \u001b[0;32mIn[17], line 2\u001b[0m\n\u001b[1;32m      1\u001b[0m \u001b[39m# Entrenamos el modelo de Extreme Gradient Boosting\u001b[39;00m\n\u001b[0;32m----> 2\u001b[0m xgb_model \u001b[39m=\u001b[39m xgb\u001b[39m.\u001b[39mXGBClassifier(random_state\u001b[39m=\u001b[39m\u001b[39m912\u001b[39m)\n",
      "\u001b[0;31mNameError\u001b[0m: name 'xgb' is not defined"
     ]
    }
   ],
   "source": [
    "# Entrenamos el modelo de Extreme Gradient Boosting\n",
    "xgb_model = xgb.XGBClassifier(random_state=912)"
   ]
  }
 ],
 "metadata": {
  "kernelspec": {
   "display_name": "base",
   "language": "python",
   "name": "python3"
  },
  "language_info": {
   "codemirror_mode": {
    "name": "ipython",
    "version": 3
   },
   "file_extension": ".py",
   "mimetype": "text/x-python",
   "name": "python",
   "nbconvert_exporter": "python",
   "pygments_lexer": "ipython3",
   "version": "3.11.5"
  },
  "orig_nbformat": 4,
  "vscode": {
   "interpreter": {
    "hash": "69e361201045b1e54ca5451d64ae6cbebd676041fb777305b3d09b1c4fb2d759"
   }
  }
 },
 "nbformat": 4,
 "nbformat_minor": 2
}
