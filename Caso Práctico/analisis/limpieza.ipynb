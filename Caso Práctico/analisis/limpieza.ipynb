{
 "cells": [
  {
   "cell_type": "code",
   "execution_count": 18,
   "metadata": {},
   "outputs": [
    {
     "name": "stderr",
     "output_type": "stream",
     "text": [
      "c:\\ProgramData\\Anaconda3\\lib\\site-packages\\scipy\\__init__.py:146: UserWarning: A NumPy version >=1.16.5 and <1.23.0 is required for this version of SciPy (detected version 1.26.4\n",
      "  warnings.warn(f\"A NumPy version >={np_minversion} and <{np_maxversion}\"\n"
     ]
    }
   ],
   "source": [
    "# Importamos las librerias necesarias.\n",
    "import pandas as pd\n",
    "import numpy as np\n",
    "from scipy import stats"
   ]
  },
  {
   "cell_type": "code",
   "execution_count": 19,
   "metadata": {},
   "outputs": [
    {
     "name": "stdout",
     "output_type": "stream",
     "text": [
      "(58049, 25)\n"
     ]
    },
    {
     "data": {
      "text/html": [
       "<div>\n",
       "<style scoped>\n",
       "    .dataframe tbody tr th:only-of-type {\n",
       "        vertical-align: middle;\n",
       "    }\n",
       "\n",
       "    .dataframe tbody tr th {\n",
       "        vertical-align: top;\n",
       "    }\n",
       "\n",
       "    .dataframe thead th {\n",
       "        text-align: right;\n",
       "    }\n",
       "</style>\n",
       "<table border=\"1\" class=\"dataframe\">\n",
       "  <thead>\n",
       "    <tr style=\"text-align: right;\">\n",
       "      <th></th>\n",
       "      <th>CODE</th>\n",
       "      <th>PRODUCTO</th>\n",
       "      <th>TIPO_CARROCERIA</th>\n",
       "      <th>COMBUSTIBLE</th>\n",
       "      <th>Potencia_</th>\n",
       "      <th>TRANS</th>\n",
       "      <th>FORMA_PAGO</th>\n",
       "      <th>ESTADO_CIVIL</th>\n",
       "      <th>GENERO</th>\n",
       "      <th>OcupaciOn</th>\n",
       "      <th>...</th>\n",
       "      <th>REV_Garantia</th>\n",
       "      <th>Averia_grave</th>\n",
       "      <th>QUEJA_CAC</th>\n",
       "      <th>EDAD_COCHE</th>\n",
       "      <th>COSTE_VENTA</th>\n",
       "      <th>km_anno</th>\n",
       "      <th>Mas_1_coche</th>\n",
       "      <th>Revisiones</th>\n",
       "      <th>Edad Cliente</th>\n",
       "      <th>Tiempo</th>\n",
       "    </tr>\n",
       "  </thead>\n",
       "  <tbody>\n",
       "    <tr>\n",
       "      <th>0</th>\n",
       "      <td>CLI1</td>\n",
       "      <td>A</td>\n",
       "      <td>TIPO1</td>\n",
       "      <td>FUEL 1</td>\n",
       "      <td>Baja</td>\n",
       "      <td>M</td>\n",
       "      <td>Contado</td>\n",
       "      <td>CASADO</td>\n",
       "      <td>M</td>\n",
       "      <td>Empresa</td>\n",
       "      <td>...</td>\n",
       "      <td>NO DATA</td>\n",
       "      <td>Averia muy grave</td>\n",
       "      <td>SI</td>\n",
       "      <td>2.08</td>\n",
       "      <td>2892</td>\n",
       "      <td>0</td>\n",
       "      <td>0</td>\n",
       "      <td>2</td>\n",
       "      <td>18</td>\n",
       "      <td>0</td>\n",
       "    </tr>\n",
       "    <tr>\n",
       "      <th>1</th>\n",
       "      <td>CLI2</td>\n",
       "      <td>A</td>\n",
       "      <td>TIPO1</td>\n",
       "      <td>FUEL 1</td>\n",
       "      <td>Baja</td>\n",
       "      <td>M</td>\n",
       "      <td>Contado</td>\n",
       "      <td>CASADO</td>\n",
       "      <td>F</td>\n",
       "      <td>Empresa</td>\n",
       "      <td>...</td>\n",
       "      <td>SI</td>\n",
       "      <td>No</td>\n",
       "      <td>NO</td>\n",
       "      <td>2.45</td>\n",
       "      <td>1376</td>\n",
       "      <td>7187</td>\n",
       "      <td>0</td>\n",
       "      <td>2</td>\n",
       "      <td>53</td>\n",
       "      <td>0</td>\n",
       "    </tr>\n",
       "    <tr>\n",
       "      <th>2</th>\n",
       "      <td>CLI3</td>\n",
       "      <td>A</td>\n",
       "      <td>TIPO1</td>\n",
       "      <td>FUEL 1</td>\n",
       "      <td>Baja</td>\n",
       "      <td>M</td>\n",
       "      <td>Otros</td>\n",
       "      <td>CASADO</td>\n",
       "      <td>M</td>\n",
       "      <td>Empresa</td>\n",
       "      <td>...</td>\n",
       "      <td>NO DATA</td>\n",
       "      <td>No</td>\n",
       "      <td>NO</td>\n",
       "      <td>2.51</td>\n",
       "      <td>1376</td>\n",
       "      <td>0</td>\n",
       "      <td>1</td>\n",
       "      <td>4</td>\n",
       "      <td>21</td>\n",
       "      <td>3</td>\n",
       "    </tr>\n",
       "    <tr>\n",
       "      <th>3</th>\n",
       "      <td>CLI4</td>\n",
       "      <td>A</td>\n",
       "      <td>TIPO1</td>\n",
       "      <td>FUEL 1</td>\n",
       "      <td>Baja</td>\n",
       "      <td>M</td>\n",
       "      <td>Financiera Marca</td>\n",
       "      <td>CASADO</td>\n",
       "      <td>F</td>\n",
       "      <td>Empresa</td>\n",
       "      <td>...</td>\n",
       "      <td>SI</td>\n",
       "      <td>Averia muy grave</td>\n",
       "      <td>SI</td>\n",
       "      <td>2.43</td>\n",
       "      <td>2015</td>\n",
       "      <td>7256</td>\n",
       "      <td>1</td>\n",
       "      <td>4</td>\n",
       "      <td>48</td>\n",
       "      <td>5</td>\n",
       "    </tr>\n",
       "    <tr>\n",
       "      <th>4</th>\n",
       "      <td>CLI5</td>\n",
       "      <td>A</td>\n",
       "      <td>TIPO1</td>\n",
       "      <td>FUEL 1</td>\n",
       "      <td>Baja</td>\n",
       "      <td>M</td>\n",
       "      <td>Financiera Marca</td>\n",
       "      <td>CASADO</td>\n",
       "      <td>F</td>\n",
       "      <td>Funcionario</td>\n",
       "      <td>...</td>\n",
       "      <td>NO DATA</td>\n",
       "      <td>No</td>\n",
       "      <td>NO</td>\n",
       "      <td>2.30</td>\n",
       "      <td>1818</td>\n",
       "      <td>0</td>\n",
       "      <td>1</td>\n",
       "      <td>3</td>\n",
       "      <td>21</td>\n",
       "      <td>3</td>\n",
       "    </tr>\n",
       "  </tbody>\n",
       "</table>\n",
       "<p>5 rows × 25 columns</p>\n",
       "</div>"
      ],
      "text/plain": [
       "   CODE PRODUCTO TIPO_CARROCERIA COMBUSTIBLE Potencia_ TRANS  \\\n",
       "0  CLI1        A           TIPO1      FUEL 1      Baja     M   \n",
       "1  CLI2        A           TIPO1      FUEL 1      Baja     M   \n",
       "2  CLI3        A           TIPO1      FUEL 1      Baja     M   \n",
       "3  CLI4        A           TIPO1      FUEL 1      Baja     M   \n",
       "4  CLI5        A           TIPO1      FUEL 1      Baja     M   \n",
       "\n",
       "         FORMA_PAGO ESTADO_CIVIL GENERO    OcupaciOn  ... REV_Garantia  \\\n",
       "0           Contado       CASADO      M      Empresa  ...      NO DATA   \n",
       "1           Contado       CASADO      F      Empresa  ...           SI   \n",
       "2             Otros       CASADO      M      Empresa  ...      NO DATA   \n",
       "3  Financiera Marca       CASADO      F      Empresa  ...           SI   \n",
       "4  Financiera Marca       CASADO      F  Funcionario  ...      NO DATA   \n",
       "\n",
       "       Averia_grave QUEJA_CAC EDAD_COCHE COSTE_VENTA km_anno Mas_1_coche  \\\n",
       "0  Averia muy grave        SI       2.08        2892       0           0   \n",
       "1                No        NO       2.45        1376    7187           0   \n",
       "2                No        NO       2.51        1376       0           1   \n",
       "3  Averia muy grave        SI       2.43        2015    7256           1   \n",
       "4                No        NO       2.30        1818       0           1   \n",
       "\n",
       "  Revisiones  Edad Cliente  Tiempo  \n",
       "0          2            18       0  \n",
       "1          2            53       0  \n",
       "2          4            21       3  \n",
       "3          4            48       5  \n",
       "4          3            21       3  \n",
       "\n",
       "[5 rows x 25 columns]"
      ]
     },
     "execution_count": 19,
     "metadata": {},
     "output_type": "execute_result"
    }
   ],
   "source": [
    "# Creamos un DataFrame de nuestros datos.\n",
    "car_data = pd.read_csv('../data/cars.csv', sep=';')\n",
    "\n",
    "# Mostramos la forma y los primeros registros de nuestro DataFrame.\n",
    "print(car_data.shape)\n",
    "car_data.head()"
   ]
  },
  {
   "cell_type": "code",
   "execution_count": 20,
   "metadata": {},
   "outputs": [
    {
     "data": {
      "text/plain": [
       "CODE                   0\n",
       "PRODUCTO               0\n",
       "TIPO_CARROCERIA        0\n",
       "COMBUSTIBLE            0\n",
       "Potencia_              0\n",
       "TRANS                  0\n",
       "FORMA_PAGO             0\n",
       "ESTADO_CIVIL         890\n",
       "GENERO               860\n",
       "OcupaciOn              0\n",
       "PROVINCIA              0\n",
       "Campanna1              0\n",
       "Campanna2              0\n",
       "Campanna3              0\n",
       "Zona _Renta        13178\n",
       "REV_Garantia           0\n",
       "Averia_grave           1\n",
       "QUEJA_CAC              0\n",
       "EDAD_COCHE             0\n",
       "COSTE_VENTA            0\n",
       "km_anno                0\n",
       "Mas_1_coche            0\n",
       "Revisiones             0\n",
       "Edad Cliente           0\n",
       "Tiempo                 0\n",
       "dtype: int64"
      ]
     },
     "execution_count": 20,
     "metadata": {},
     "output_type": "execute_result"
    }
   ],
   "source": [
    "# Revisamos si hay valores nulos en nuestro DataFrame.\n",
    "valores_nulos = car_data.isnull().sum()\n",
    "\n",
    "# Mostramos los valores nulos.\n",
    "valores_nulos"
   ]
  },
  {
   "cell_type": "code",
   "execution_count": 21,
   "metadata": {},
   "outputs": [
    {
     "data": {
      "text/plain": [
       "0"
      ]
     },
     "execution_count": 21,
     "metadata": {},
     "output_type": "execute_result"
    }
   ],
   "source": [
    "# Revisamos si hay valores duplicados en nuestro DataFrame.\n",
    "duplicados = car_data.duplicated().sum()\n",
    "\n",
    "# Mostramos los valores duplicados.\n",
    "duplicados"
   ]
  },
  {
   "cell_type": "code",
   "execution_count": 22,
   "metadata": {},
   "outputs": [
    {
     "data": {
      "text/plain": [
       "CODE                object\n",
       "PRODUCTO            object\n",
       "TIPO_CARROCERIA     object\n",
       "COMBUSTIBLE         object\n",
       "Potencia_           object\n",
       "TRANS               object\n",
       "FORMA_PAGO          object\n",
       "ESTADO_CIVIL        object\n",
       "GENERO              object\n",
       "OcupaciOn           object\n",
       "PROVINCIA           object\n",
       "Campanna1           object\n",
       "Campanna2           object\n",
       "Campanna3           object\n",
       "Zona _Renta         object\n",
       "REV_Garantia        object\n",
       "Averia_grave        object\n",
       "QUEJA_CAC           object\n",
       "EDAD_COCHE         float64\n",
       "COSTE_VENTA          int64\n",
       "km_anno              int64\n",
       "Mas_1_coche          int64\n",
       "Revisiones           int64\n",
       "Edad Cliente         int64\n",
       "Tiempo               int64\n",
       "dtype: object"
      ]
     },
     "execution_count": 22,
     "metadata": {},
     "output_type": "execute_result"
    }
   ],
   "source": [
    "# Revisamos los tipos de datos de nuestro DataFrame.\n",
    "tipos_de_datos = car_data.dtypes\n",
    "\n",
    "# Mostramos los tipos de datos.\n",
    "tipos_de_datos"
   ]
  },
  {
   "cell_type": "markdown",
   "metadata": {},
   "source": [
    "Identificamos putliers de 2 maneras: IQR y Z-score.\n",
    "\n",
    "Método IQR: Los valores fuera del rango [𝑄1 − 1.5 × 𝐼𝑄𝑅, 𝑄3 + 1.5 × 𝐼𝑄𝑅] se consideran outliers.\n",
    "Método Z-score: Los valores con un z-score absoluto mayor a 3 se consideran outliers (a más de 3 desviaciones estándar de la media)."
   ]
  },
  {
   "cell_type": "code",
   "execution_count": 23,
   "metadata": {},
   "outputs": [
    {
     "name": "stdout",
     "output_type": "stream",
     "text": [
      "           CODE PRODUCTO TIPO_CARROCERIA COMBUSTIBLE Potencia_ TRANS  \\\n",
      "302      CLI303        A           TIPO1      FUEL 1      Baja     M   \n",
      "1296    CLI1297        A           TIPO1      FUEL 2     Media     M   \n",
      "1675    CLI1676        B           TIPO1      FUEL 1      Baja     M   \n",
      "1739    CLI1740        B           TIPO1      FUEL 1     Media     M   \n",
      "1908    CLI1909        B           TIPO1      FUEL 1     Media     M   \n",
      "...         ...      ...             ...         ...       ...   ...   \n",
      "57913  CLI55887        I           TIPO7      FUEL 2     Media     A   \n",
      "58033  CLI57672        E           TIPO2      FUEL 1     Media     M   \n",
      "58034  CLI57679        E           TIPO2      FUEL 1     Media     M   \n",
      "58044  CLI57905        F           TIPO3      FUEL 1      Alta     M   \n",
      "58047  CLI58038        G           TIPO5      FUEL 2     Media     M   \n",
      "\n",
      "             FORMA_PAGO ESTADO_CIVIL GENERO OcupaciOn  ... REV_Garantia  \\\n",
      "302               Otros       CASADO      F   Empresa  ...           SI   \n",
      "1296              Otros       CASADO      F   Empresa  ...           SI   \n",
      "1675   Financiera Marca       CASADO      M   Empresa  ...      NO DATA   \n",
      "1739            Contado       CASADO      F   Empresa  ...           SI   \n",
      "1908   Financiera Marca        OTROS      M   Empresa  ...           SI   \n",
      "...                 ...          ...    ...       ...  ...          ...   \n",
      "57913  Financiera Marca       CASADO      F   Empresa  ...           SI   \n",
      "58033  Financiera Marca       CASADO      M   Empresa  ...           SI   \n",
      "58034           Contado       CASADO      F   Empresa  ...      NO DATA   \n",
      "58044           Contado      SOLTERO      F   Empresa  ...           SI   \n",
      "58047           Contado       CASADO      M   Empresa  ...      NO DATA   \n",
      "\n",
      "           Averia_grave QUEJA_CAC EDAD_COCHE COSTE_VENTA km_anno Mas_1_coche  \\\n",
      "302                  No        NO       1.93        3213   45859           1   \n",
      "1296                 No        NO       1.64        5421   62534           1   \n",
      "1675                 No        NO       2.56        6456       0           1   \n",
      "1739                 No        NO       2.62        6765   14695           1   \n",
      "1908   Averia muy grave        SI       2.49        3696   52967           1   \n",
      "...                 ...       ...        ...         ...     ...         ...   \n",
      "57913                No        NO       1.89        3861   46894           1   \n",
      "58033                No        NO       2.45        7151    9219           1   \n",
      "58034                No        NO       2.19        7689       0           1   \n",
      "58044  Averia muy grave        SI       8.35        6832   12528           0   \n",
      "58047                No        NO       9.26        2786   10441           0   \n",
      "\n",
      "      Revisiones  Edad Cliente  Tiempo  \n",
      "302            0            40       6  \n",
      "1296           1            50       8  \n",
      "1675           2            32       8  \n",
      "1739           2            59       6  \n",
      "1908           0            55       6  \n",
      "...          ...           ...     ...  \n",
      "57913          0            41       6  \n",
      "58033          2            21       6  \n",
      "58034          1            37       9  \n",
      "58044          5            38       0  \n",
      "58047         13            62       0  \n",
      "\n",
      "[2443 rows x 25 columns]\n"
     ]
    },
    {
     "name": "stderr",
     "output_type": "stream",
     "text": [
      "C:\\Users\\Laura Rodríguez\\AppData\\Local\\Temp\\ipykernel_6452\\2927218837.py:11: FutureWarning: Automatic reindexing on DataFrame vs Series comparisons is deprecated and will raise ValueError in a future version. Do `left, right = left.align(right, axis=1, copy=False)` before e.g. `left == right`\n",
      "  outliers = (car_data < lower_bound) | (car_data > upper_bound)\n"
     ]
    }
   ],
   "source": [
    "# Calcular el IQR para identificar outliers\n",
    "Q1 = car_data.quantile(0.25)  # Primer cuartil (25%)\n",
    "Q3 = car_data.quantile(0.75)  # Tercer cuartil (75%)\n",
    "IQR = Q3 - Q1           # Rango intercuartílico\n",
    "\n",
    "# Definir los límites\n",
    "lower_bound = Q1 - 1.5 * IQR\n",
    "upper_bound = Q3 + 1.5 * IQR\n",
    "\n",
    "# Encontrar los outliers\n",
    "outliers = (car_data < lower_bound) | (car_data > upper_bound)\n",
    "\n",
    "# Mostrar las filas que contienen outliers\n",
    "print(car_data[outliers.any(axis=1)])"
   ]
  },
  {
   "cell_type": "code",
   "execution_count": 24,
   "metadata": {},
   "outputs": [
    {
     "ename": "TypeError",
     "evalue": "can only concatenate str (not \"float\") to str",
     "output_type": "error",
     "traceback": [
      "\u001b[1;31m---------------------------------------------------------------------------\u001b[0m",
      "\u001b[1;31mTypeError\u001b[0m                                 Traceback (most recent call last)",
      "Input \u001b[1;32mIn [24]\u001b[0m, in \u001b[0;36m<cell line: 2>\u001b[1;34m()\u001b[0m\n\u001b[0;32m      1\u001b[0m \u001b[38;5;66;03m# Calcular los z-scores\u001b[39;00m\n\u001b[1;32m----> 2\u001b[0m z_scores \u001b[38;5;241m=\u001b[39m \u001b[43mstats\u001b[49m\u001b[38;5;241;43m.\u001b[39;49m\u001b[43mzscore\u001b[49m\u001b[43m(\u001b[49m\u001b[43mcar_data\u001b[49m\u001b[43m)\u001b[49m\n\u001b[0;32m      4\u001b[0m \u001b[38;5;66;03m# Identificar los outliers (z-score > 3 o z-score < -3)\u001b[39;00m\n\u001b[0;32m      5\u001b[0m outliers_z \u001b[38;5;241m=\u001b[39m (\u001b[38;5;28mabs\u001b[39m(z_scores) \u001b[38;5;241m>\u001b[39m \u001b[38;5;241m3\u001b[39m)\n",
      "File \u001b[1;32mc:\\ProgramData\\Anaconda3\\lib\\site-packages\\scipy\\stats\\stats.py:2474\u001b[0m, in \u001b[0;36mzscore\u001b[1;34m(a, axis, ddof, nan_policy)\u001b[0m\n\u001b[0;32m   2406\u001b[0m \u001b[38;5;28;01mdef\u001b[39;00m \u001b[38;5;21mzscore\u001b[39m(a, axis\u001b[38;5;241m=\u001b[39m\u001b[38;5;241m0\u001b[39m, ddof\u001b[38;5;241m=\u001b[39m\u001b[38;5;241m0\u001b[39m, nan_policy\u001b[38;5;241m=\u001b[39m\u001b[38;5;124m'\u001b[39m\u001b[38;5;124mpropagate\u001b[39m\u001b[38;5;124m'\u001b[39m):\n\u001b[0;32m   2407\u001b[0m \u001b[38;5;250m    \u001b[39m\u001b[38;5;124;03m\"\"\"\u001b[39;00m\n\u001b[0;32m   2408\u001b[0m \u001b[38;5;124;03m    Compute the z score.\u001b[39;00m\n\u001b[0;32m   2409\u001b[0m \n\u001b[1;32m   (...)\u001b[0m\n\u001b[0;32m   2472\u001b[0m \u001b[38;5;124;03m           [-0.91611681, -0.89090508,  1.4983032 ,  0.88731639, -0.5785977 ]])\u001b[39;00m\n\u001b[0;32m   2473\u001b[0m \u001b[38;5;124;03m    \"\"\"\u001b[39;00m\n\u001b[1;32m-> 2474\u001b[0m     \u001b[38;5;28;01mreturn\u001b[39;00m \u001b[43mzmap\u001b[49m\u001b[43m(\u001b[49m\u001b[43ma\u001b[49m\u001b[43m,\u001b[49m\u001b[43m \u001b[49m\u001b[43ma\u001b[49m\u001b[43m,\u001b[49m\u001b[43m \u001b[49m\u001b[43maxis\u001b[49m\u001b[38;5;241;43m=\u001b[39;49m\u001b[43maxis\u001b[49m\u001b[43m,\u001b[49m\u001b[43m \u001b[49m\u001b[43mddof\u001b[49m\u001b[38;5;241;43m=\u001b[39;49m\u001b[43mddof\u001b[49m\u001b[43m,\u001b[49m\u001b[43m \u001b[49m\u001b[43mnan_policy\u001b[49m\u001b[38;5;241;43m=\u001b[39;49m\u001b[43mnan_policy\u001b[49m\u001b[43m)\u001b[49m\n",
      "File \u001b[1;32mc:\\ProgramData\\Anaconda3\\lib\\site-packages\\scipy\\stats\\stats.py:2544\u001b[0m, in \u001b[0;36mzmap\u001b[1;34m(scores, compare, axis, ddof, nan_policy)\u001b[0m\n\u001b[0;32m   2542\u001b[0m         isconst \u001b[38;5;241m=\u001b[39m np\u001b[38;5;241m.\u001b[39mapply_along_axis(_isconst, axis, a)\n\u001b[0;32m   2543\u001b[0m \u001b[38;5;28;01melse\u001b[39;00m:\n\u001b[1;32m-> 2544\u001b[0m     mn \u001b[38;5;241m=\u001b[39m \u001b[43ma\u001b[49m\u001b[38;5;241;43m.\u001b[39;49m\u001b[43mmean\u001b[49m\u001b[43m(\u001b[49m\u001b[43maxis\u001b[49m\u001b[38;5;241;43m=\u001b[39;49m\u001b[43maxis\u001b[49m\u001b[43m,\u001b[49m\u001b[43m \u001b[49m\u001b[43mkeepdims\u001b[49m\u001b[38;5;241;43m=\u001b[39;49m\u001b[38;5;28;43;01mTrue\u001b[39;49;00m\u001b[43m)\u001b[49m\n\u001b[0;32m   2545\u001b[0m     std \u001b[38;5;241m=\u001b[39m a\u001b[38;5;241m.\u001b[39mstd(axis\u001b[38;5;241m=\u001b[39maxis, ddof\u001b[38;5;241m=\u001b[39mddof, keepdims\u001b[38;5;241m=\u001b[39m\u001b[38;5;28;01mTrue\u001b[39;00m)\n\u001b[0;32m   2546\u001b[0m     \u001b[38;5;28;01mif\u001b[39;00m axis \u001b[38;5;129;01mis\u001b[39;00m \u001b[38;5;28;01mNone\u001b[39;00m:\n",
      "File \u001b[1;32m~\\AppData\\Roaming\\Python\\Python39\\site-packages\\numpy\\core\\_methods.py:118\u001b[0m, in \u001b[0;36m_mean\u001b[1;34m(a, axis, dtype, out, keepdims, where)\u001b[0m\n\u001b[0;32m    115\u001b[0m         dtype \u001b[38;5;241m=\u001b[39m mu\u001b[38;5;241m.\u001b[39mdtype(\u001b[38;5;124m'\u001b[39m\u001b[38;5;124mf4\u001b[39m\u001b[38;5;124m'\u001b[39m)\n\u001b[0;32m    116\u001b[0m         is_float16_result \u001b[38;5;241m=\u001b[39m \u001b[38;5;28;01mTrue\u001b[39;00m\n\u001b[1;32m--> 118\u001b[0m ret \u001b[38;5;241m=\u001b[39m \u001b[43mumr_sum\u001b[49m\u001b[43m(\u001b[49m\u001b[43marr\u001b[49m\u001b[43m,\u001b[49m\u001b[43m \u001b[49m\u001b[43maxis\u001b[49m\u001b[43m,\u001b[49m\u001b[43m \u001b[49m\u001b[43mdtype\u001b[49m\u001b[43m,\u001b[49m\u001b[43m \u001b[49m\u001b[43mout\u001b[49m\u001b[43m,\u001b[49m\u001b[43m \u001b[49m\u001b[43mkeepdims\u001b[49m\u001b[43m,\u001b[49m\u001b[43m \u001b[49m\u001b[43mwhere\u001b[49m\u001b[38;5;241;43m=\u001b[39;49m\u001b[43mwhere\u001b[49m\u001b[43m)\u001b[49m\n\u001b[0;32m    119\u001b[0m \u001b[38;5;28;01mif\u001b[39;00m \u001b[38;5;28misinstance\u001b[39m(ret, mu\u001b[38;5;241m.\u001b[39mndarray):\n\u001b[0;32m    120\u001b[0m     \u001b[38;5;28;01mwith\u001b[39;00m _no_nep50_warning():\n",
      "\u001b[1;31mTypeError\u001b[0m: can only concatenate str (not \"float\") to str"
     ]
    }
   ],
   "source": [
    "# Calcular los z-scores\n",
    "z_scores = stats.zscore(car_data)\n",
    "\n",
    "# Identificar los outliers (z-score > 3 o z-score < -3)\n",
    "outliers_z = (abs(z_scores) > 3)\n",
    "\n",
    "# Mostrar las filas que contienen outliers\n",
    "print(car_data[outliers_z.any(axis=1)])"
   ]
  }
 ],
 "metadata": {
  "kernelspec": {
   "display_name": "Python 3",
   "language": "python",
   "name": "python3"
  },
  "language_info": {
   "codemirror_mode": {
    "name": "ipython",
    "version": 3
   },
   "file_extension": ".py",
   "mimetype": "text/x-python",
   "name": "python",
   "nbconvert_exporter": "python",
   "pygments_lexer": "ipython3",
   "version": "3.9.12"
  }
 },
 "nbformat": 4,
 "nbformat_minor": 2
}
