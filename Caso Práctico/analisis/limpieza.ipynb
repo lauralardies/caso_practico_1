{
 "cells": [
  {
   "cell_type": "markdown",
   "metadata": {},
   "source": [
    "# Pre-procesado de datos.\n",
    "\n",
    "En este documento analizaremos los datos antes de entrenarlos."
   ]
  },
  {
   "cell_type": "markdown",
   "metadata": {},
   "source": [
    "Importamos las liberías empleadas en este análisis."
   ]
  },
  {
   "cell_type": "code",
   "execution_count": 1,
   "metadata": {},
   "outputs": [
    {
     "name": "stderr",
     "output_type": "stream",
     "text": [
      "c:\\ProgramData\\Anaconda3\\lib\\site-packages\\scipy\\__init__.py:146: UserWarning: A NumPy version >=1.16.5 and <1.23.0 is required for this version of SciPy (detected version 1.26.4\n",
      "  warnings.warn(f\"A NumPy version >={np_minversion} and <{np_maxversion}\"\n"
     ]
    }
   ],
   "source": [
    "# Importar bibliotecas para manipulación de datos\n",
    "import os\n",
    "import pandas as pd\n",
    "import numpy as np\n",
    "import pickle\n",
    "\n",
    "# Importar bibliotecas para visualización\n",
    "import matplotlib.pyplot as plt\n",
    "import seaborn as sns\n",
    "\n",
    "# Importar herramientas de preprocesamiento\n",
    "from sklearn.preprocessing import LabelEncoder"
   ]
  },
  {
   "cell_type": "markdown",
   "metadata": {},
   "source": [
    "Importamos nuestros datos."
   ]
  },
  {
   "cell_type": "code",
   "execution_count": 2,
   "metadata": {},
   "outputs": [
    {
     "name": "stdout",
     "output_type": "stream",
     "text": [
      "(58049, 25)\n"
     ]
    },
    {
     "data": {
      "text/html": [
       "<div>\n",
       "<style scoped>\n",
       "    .dataframe tbody tr th:only-of-type {\n",
       "        vertical-align: middle;\n",
       "    }\n",
       "\n",
       "    .dataframe tbody tr th {\n",
       "        vertical-align: top;\n",
       "    }\n",
       "\n",
       "    .dataframe thead th {\n",
       "        text-align: right;\n",
       "    }\n",
       "</style>\n",
       "<table border=\"1\" class=\"dataframe\">\n",
       "  <thead>\n",
       "    <tr style=\"text-align: right;\">\n",
       "      <th></th>\n",
       "      <th>CODE</th>\n",
       "      <th>PRODUCTO</th>\n",
       "      <th>TIPO_CARROCERIA</th>\n",
       "      <th>COMBUSTIBLE</th>\n",
       "      <th>Potencia_</th>\n",
       "      <th>TRANS</th>\n",
       "      <th>FORMA_PAGO</th>\n",
       "      <th>ESTADO_CIVIL</th>\n",
       "      <th>GENERO</th>\n",
       "      <th>OcupaciOn</th>\n",
       "      <th>...</th>\n",
       "      <th>REV_Garantia</th>\n",
       "      <th>Averia_grave</th>\n",
       "      <th>QUEJA_CAC</th>\n",
       "      <th>EDAD_COCHE</th>\n",
       "      <th>COSTE_VENTA</th>\n",
       "      <th>km_anno</th>\n",
       "      <th>Mas_1_coche</th>\n",
       "      <th>Revisiones</th>\n",
       "      <th>Edad Cliente</th>\n",
       "      <th>Tiempo</th>\n",
       "    </tr>\n",
       "  </thead>\n",
       "  <tbody>\n",
       "    <tr>\n",
       "      <th>0</th>\n",
       "      <td>CLI1</td>\n",
       "      <td>A</td>\n",
       "      <td>TIPO1</td>\n",
       "      <td>FUEL 1</td>\n",
       "      <td>Baja</td>\n",
       "      <td>M</td>\n",
       "      <td>Contado</td>\n",
       "      <td>CASADO</td>\n",
       "      <td>M</td>\n",
       "      <td>Empresa</td>\n",
       "      <td>...</td>\n",
       "      <td>NO DATA</td>\n",
       "      <td>Averia muy grave</td>\n",
       "      <td>SI</td>\n",
       "      <td>2.08</td>\n",
       "      <td>2892</td>\n",
       "      <td>0</td>\n",
       "      <td>0</td>\n",
       "      <td>2</td>\n",
       "      <td>18</td>\n",
       "      <td>0</td>\n",
       "    </tr>\n",
       "    <tr>\n",
       "      <th>1</th>\n",
       "      <td>CLI2</td>\n",
       "      <td>A</td>\n",
       "      <td>TIPO1</td>\n",
       "      <td>FUEL 1</td>\n",
       "      <td>Baja</td>\n",
       "      <td>M</td>\n",
       "      <td>Contado</td>\n",
       "      <td>CASADO</td>\n",
       "      <td>F</td>\n",
       "      <td>Empresa</td>\n",
       "      <td>...</td>\n",
       "      <td>SI</td>\n",
       "      <td>No</td>\n",
       "      <td>NO</td>\n",
       "      <td>2.45</td>\n",
       "      <td>1376</td>\n",
       "      <td>7187</td>\n",
       "      <td>0</td>\n",
       "      <td>2</td>\n",
       "      <td>53</td>\n",
       "      <td>0</td>\n",
       "    </tr>\n",
       "    <tr>\n",
       "      <th>2</th>\n",
       "      <td>CLI3</td>\n",
       "      <td>A</td>\n",
       "      <td>TIPO1</td>\n",
       "      <td>FUEL 1</td>\n",
       "      <td>Baja</td>\n",
       "      <td>M</td>\n",
       "      <td>Otros</td>\n",
       "      <td>CASADO</td>\n",
       "      <td>M</td>\n",
       "      <td>Empresa</td>\n",
       "      <td>...</td>\n",
       "      <td>NO DATA</td>\n",
       "      <td>No</td>\n",
       "      <td>NO</td>\n",
       "      <td>2.51</td>\n",
       "      <td>1376</td>\n",
       "      <td>0</td>\n",
       "      <td>1</td>\n",
       "      <td>4</td>\n",
       "      <td>21</td>\n",
       "      <td>3</td>\n",
       "    </tr>\n",
       "    <tr>\n",
       "      <th>3</th>\n",
       "      <td>CLI4</td>\n",
       "      <td>A</td>\n",
       "      <td>TIPO1</td>\n",
       "      <td>FUEL 1</td>\n",
       "      <td>Baja</td>\n",
       "      <td>M</td>\n",
       "      <td>Financiera Marca</td>\n",
       "      <td>CASADO</td>\n",
       "      <td>F</td>\n",
       "      <td>Empresa</td>\n",
       "      <td>...</td>\n",
       "      <td>SI</td>\n",
       "      <td>Averia muy grave</td>\n",
       "      <td>SI</td>\n",
       "      <td>2.43</td>\n",
       "      <td>2015</td>\n",
       "      <td>7256</td>\n",
       "      <td>1</td>\n",
       "      <td>4</td>\n",
       "      <td>48</td>\n",
       "      <td>5</td>\n",
       "    </tr>\n",
       "    <tr>\n",
       "      <th>4</th>\n",
       "      <td>CLI5</td>\n",
       "      <td>A</td>\n",
       "      <td>TIPO1</td>\n",
       "      <td>FUEL 1</td>\n",
       "      <td>Baja</td>\n",
       "      <td>M</td>\n",
       "      <td>Financiera Marca</td>\n",
       "      <td>CASADO</td>\n",
       "      <td>F</td>\n",
       "      <td>Funcionario</td>\n",
       "      <td>...</td>\n",
       "      <td>NO DATA</td>\n",
       "      <td>No</td>\n",
       "      <td>NO</td>\n",
       "      <td>2.30</td>\n",
       "      <td>1818</td>\n",
       "      <td>0</td>\n",
       "      <td>1</td>\n",
       "      <td>3</td>\n",
       "      <td>21</td>\n",
       "      <td>3</td>\n",
       "    </tr>\n",
       "  </tbody>\n",
       "</table>\n",
       "<p>5 rows × 25 columns</p>\n",
       "</div>"
      ],
      "text/plain": [
       "   CODE PRODUCTO TIPO_CARROCERIA COMBUSTIBLE Potencia_ TRANS  \\\n",
       "0  CLI1        A           TIPO1      FUEL 1      Baja     M   \n",
       "1  CLI2        A           TIPO1      FUEL 1      Baja     M   \n",
       "2  CLI3        A           TIPO1      FUEL 1      Baja     M   \n",
       "3  CLI4        A           TIPO1      FUEL 1      Baja     M   \n",
       "4  CLI5        A           TIPO1      FUEL 1      Baja     M   \n",
       "\n",
       "         FORMA_PAGO ESTADO_CIVIL GENERO    OcupaciOn  ... REV_Garantia  \\\n",
       "0           Contado       CASADO      M      Empresa  ...      NO DATA   \n",
       "1           Contado       CASADO      F      Empresa  ...           SI   \n",
       "2             Otros       CASADO      M      Empresa  ...      NO DATA   \n",
       "3  Financiera Marca       CASADO      F      Empresa  ...           SI   \n",
       "4  Financiera Marca       CASADO      F  Funcionario  ...      NO DATA   \n",
       "\n",
       "       Averia_grave QUEJA_CAC EDAD_COCHE COSTE_VENTA km_anno Mas_1_coche  \\\n",
       "0  Averia muy grave        SI       2.08        2892       0           0   \n",
       "1                No        NO       2.45        1376    7187           0   \n",
       "2                No        NO       2.51        1376       0           1   \n",
       "3  Averia muy grave        SI       2.43        2015    7256           1   \n",
       "4                No        NO       2.30        1818       0           1   \n",
       "\n",
       "  Revisiones  Edad Cliente  Tiempo  \n",
       "0          2            18       0  \n",
       "1          2            53       0  \n",
       "2          4            21       3  \n",
       "3          4            48       5  \n",
       "4          3            21       3  \n",
       "\n",
       "[5 rows x 25 columns]"
      ]
     },
     "execution_count": 2,
     "metadata": {},
     "output_type": "execute_result"
    }
   ],
   "source": [
    "# Creamos un DataFrame de nuestros datos.\n",
    "car_data = pd.read_csv('../data/cars.csv', sep=';')\n",
    "\n",
    "# Mostramos la forma y los primeros registros de nuestro DataFrame.\n",
    "print(car_data.shape)\n",
    "car_data.head()"
   ]
  },
  {
   "cell_type": "markdown",
   "metadata": {},
   "source": [
    "Vemos qué valores nulos hay en nuestro DataFrame."
   ]
  },
  {
   "cell_type": "code",
   "execution_count": 3,
   "metadata": {},
   "outputs": [
    {
     "data": {
      "text/plain": [
       "CODE                   0\n",
       "PRODUCTO               0\n",
       "TIPO_CARROCERIA        0\n",
       "COMBUSTIBLE            0\n",
       "Potencia_              0\n",
       "TRANS                  0\n",
       "FORMA_PAGO             0\n",
       "ESTADO_CIVIL         890\n",
       "GENERO               860\n",
       "OcupaciOn              0\n",
       "PROVINCIA              0\n",
       "Campanna1              0\n",
       "Campanna2              0\n",
       "Campanna3              0\n",
       "Zona _Renta        13178\n",
       "REV_Garantia           0\n",
       "Averia_grave           1\n",
       "QUEJA_CAC              0\n",
       "EDAD_COCHE             0\n",
       "COSTE_VENTA            0\n",
       "km_anno                0\n",
       "Mas_1_coche            0\n",
       "Revisiones             0\n",
       "Edad Cliente           0\n",
       "Tiempo                 0\n",
       "dtype: int64"
      ]
     },
     "execution_count": 3,
     "metadata": {},
     "output_type": "execute_result"
    }
   ],
   "source": [
    "# Revisamos si hay valores nulos en nuestro DataFrame.\n",
    "valores_nulos = car_data.isnull().sum()\n",
    "\n",
    "# Mostramos los valores nulos.\n",
    "valores_nulos"
   ]
  },
  {
   "cell_type": "markdown",
   "metadata": {},
   "source": [
    "Debido a que las columnas con datos nulos son categóricas y pueden tomar tan solo ciertos valores, sustituimos los valores nulos por la moda."
   ]
  },
  {
   "cell_type": "code",
   "execution_count": 4,
   "metadata": {},
   "outputs": [],
   "source": [
    "# Función para sustituir los valores nulos en las columnas especificadas por la moda (valor más frecuente).\n",
    "def valores_nulos(df, columnas):\n",
    "    for columna in columnas:\n",
    "        if columna in df.columns:  # Verificar si la columna existe en el DataFrame\n",
    "            if df[columna].isnull().any():  # Solo si hay valores nulos\n",
    "                try:\n",
    "                    # Obtener la moda (valor más frecuente)\n",
    "                    moda = df[columna].mode()[0]  # Usar [0] para seleccionar el primer valor en caso de múltiples modos\n",
    "                    df[columna].fillna(moda, inplace=True)\n",
    "                except IndexError:\n",
    "                    print(f\"No se pudo obtener la moda para la columna: {columna}\")\n",
    "            else:\n",
    "                print(f\"No hay valores nulos en la columna: {columna}\")\n",
    "        else:\n",
    "            print(f\"La columna '{columna}' no existe en el DataFrame\")\n",
    "    return df"
   ]
  },
  {
   "cell_type": "code",
   "execution_count": 5,
   "metadata": {},
   "outputs": [],
   "source": [
    "# Aplicamos la función a car_data.\n",
    "columnas_nulos = ['ESTADO_CIVIL', 'GENERO', 'Zona _Renta', 'Averia_grave']\n",
    "car_data = valores_nulos(car_data, columnas_nulos)"
   ]
  },
  {
   "cell_type": "markdown",
   "metadata": {},
   "source": [
    "Verificamos que se hayan hecho los cambios correctamente."
   ]
  },
  {
   "cell_type": "code",
   "execution_count": 6,
   "metadata": {},
   "outputs": [
    {
     "data": {
      "text/plain": [
       "CODE               0\n",
       "PRODUCTO           0\n",
       "TIPO_CARROCERIA    0\n",
       "COMBUSTIBLE        0\n",
       "Potencia_          0\n",
       "TRANS              0\n",
       "FORMA_PAGO         0\n",
       "ESTADO_CIVIL       0\n",
       "GENERO             0\n",
       "OcupaciOn          0\n",
       "PROVINCIA          0\n",
       "Campanna1          0\n",
       "Campanna2          0\n",
       "Campanna3          0\n",
       "Zona _Renta        0\n",
       "REV_Garantia       0\n",
       "Averia_grave       0\n",
       "QUEJA_CAC          0\n",
       "EDAD_COCHE         0\n",
       "COSTE_VENTA        0\n",
       "km_anno            0\n",
       "Mas_1_coche        0\n",
       "Revisiones         0\n",
       "Edad Cliente       0\n",
       "Tiempo             0\n",
       "dtype: int64"
      ]
     },
     "execution_count": 6,
     "metadata": {},
     "output_type": "execute_result"
    }
   ],
   "source": [
    "# Calculamos de nuevo los valores nulos en nuestro DataFrame.\n",
    "valores_nulos = car_data.isnull().sum()\n",
    "\n",
    "# Mostramos los valores nulos.\n",
    "valores_nulos"
   ]
  },
  {
   "cell_type": "markdown",
   "metadata": {},
   "source": [
    "Ya no tenemos ningún dato nulo.\n",
    "\n",
    "Vemos si hay datos duplicados, pues es un paso crucial para garantizar la calidad de los datos y evitar sesgos, errores en los resultados estadísticos, y problemas en los modelos predictivos. "
   ]
  },
  {
   "cell_type": "code",
   "execution_count": 7,
   "metadata": {},
   "outputs": [],
   "source": [
    "# Función que devuelva los valores duplicados en un data.\n",
    "\n",
    "def eliminar_duplicados(df):\n",
    "    duplicados = df.duplicated().sum()\n",
    "    print(f\"Duplicados encontrados: {duplicados}\")\n",
    "    \n",
    "    # Elimina duplicados\n",
    "    df_sin_duplicados = df.drop_duplicates()\n",
    "    \n",
    "    return duplicados, df_sin_duplicados"
   ]
  },
  {
   "cell_type": "code",
   "execution_count": 8,
   "metadata": {},
   "outputs": [
    {
     "name": "stdout",
     "output_type": "stream",
     "text": [
      "Duplicados encontrados: 0\n"
     ]
    }
   ],
   "source": [
    "# Datos duplicados de car_data.\n",
    "duplicados, car_data_sin_duplicados = eliminar_duplicados(car_data)"
   ]
  },
  {
   "cell_type": "markdown",
   "metadata": {},
   "source": [
    "Revisamos qué tipos de datos tiene cada columna de nuestro DataFrame."
   ]
  },
  {
   "cell_type": "code",
   "execution_count": 9,
   "metadata": {},
   "outputs": [
    {
     "data": {
      "text/plain": [
       "CODE                object\n",
       "PRODUCTO            object\n",
       "TIPO_CARROCERIA     object\n",
       "COMBUSTIBLE         object\n",
       "Potencia_           object\n",
       "TRANS               object\n",
       "FORMA_PAGO          object\n",
       "ESTADO_CIVIL        object\n",
       "GENERO              object\n",
       "OcupaciOn           object\n",
       "PROVINCIA           object\n",
       "Campanna1           object\n",
       "Campanna2           object\n",
       "Campanna3           object\n",
       "Zona _Renta         object\n",
       "REV_Garantia        object\n",
       "Averia_grave        object\n",
       "QUEJA_CAC           object\n",
       "EDAD_COCHE         float64\n",
       "COSTE_VENTA          int64\n",
       "km_anno              int64\n",
       "Mas_1_coche          int64\n",
       "Revisiones           int64\n",
       "Edad Cliente         int64\n",
       "Tiempo               int64\n",
       "dtype: object"
      ]
     },
     "execution_count": 9,
     "metadata": {},
     "output_type": "execute_result"
    }
   ],
   "source": [
    "# Revisamos los tipos de datos de nuestro DataFrame.\n",
    "tipos_de_datos = car_data.dtypes\n",
    "\n",
    "# Mostramos los tipos de datos.\n",
    "tipos_de_datos"
   ]
  },
  {
   "cell_type": "markdown",
   "metadata": {},
   "source": [
    "Para continuar con nuestro análisis separamos en variables categóricas y variables numéricas."
   ]
  },
  {
   "cell_type": "code",
   "execution_count": 10,
   "metadata": {},
   "outputs": [],
   "source": [
    "# Separamos las variables categóricas y numéricas.\n",
    "categorical = car_data.select_dtypes(include=['object'])\n",
    "numeric = car_data.select_dtypes(exclude=['object']) # Excluimos las variables categóricas ya que sabemos que el resto de las variables son numéricas."
   ]
  },
  {
   "cell_type": "markdown",
   "metadata": {},
   "source": [
    "## Análisis varables numéricas."
   ]
  },
  {
   "cell_type": "code",
   "execution_count": 11,
   "metadata": {},
   "outputs": [],
   "source": [
    "# Función para crear una matriz de correlación y su mapa de calor.\n",
    "\n",
    "def mapa_correlacion(data):\n",
    "    # Calcular la matriz de correlación.\n",
    "    correlation_matrix = data.corr()\n",
    "\n",
    "    # Configurar el tamaño de la figura.\n",
    "    plt.figure(figsize=(15, 10))\n",
    "    sns.set(style='white')\n",
    "\n",
    "    # Crear la máscara para el triángulo superior.\n",
    "    mask = np.triu(np.ones_like(correlation_matrix, dtype=bool))\n",
    "\n",
    "    # Crear un mapa de colores divergente\n",
    "    cmap = sns.diverging_palette(0, 10, as_cmap=True)\n",
    "\n",
    "    # Crear el mapa de calor con los valores de correlación anotados.\n",
    "    sns.heatmap(correlation_matrix, \n",
    "                mask=mask,        # Aplicar la máscara.\n",
    "                cmap=cmap,        # Mapa de colores.\n",
    "                annot=True,       # Mostrar los números.\n",
    "                fmt=\".2f\",        # Formato a dos decimales.\n",
    "                vmin=-1, vmax=1,  # Limitar los valores entre -1 y 1.\n",
    "                center=0,         # Centrar en 0.\n",
    "                square=True,      # Hacer que los cuadros sean cuadrados.\n",
    "                linewidths=0.5,   # Ancho de las líneas entre celdas.\n",
    "                cbar_kws={\"shrink\": 0.5})  # Tamaño de la barra de color.\n",
    "\n",
    "    # Mostrar el gráfico.\n",
    "    plt.show()"
   ]
  },
  {
   "cell_type": "code",
   "execution_count": 12,
   "metadata": {},
   "outputs": [
    {
     "data": {
      "image/png": "[encoded data removed]",
      "text/plain": [
       "<Figure size 1080x720 with 2 Axes>"
      ]
     },
     "metadata": {
      "needs_background": "light"
     },
     "output_type": "display_data"
    }
   ],
   "source": [
    "mapa_correlacion(numeric)"
   ]
  },
  {
   "cell_type": "code",
   "execution_count": 13,
   "metadata": {},
   "outputs": [
    {
     "data": {
      "image/png": "[encoded data removed]",
      "text/plain": [
       "<Figure size 720x432 with 1 Axes>"
      ]
     },
     "metadata": {},
     "output_type": "display_data"
    },
    {
     "data": {
      "image/png": "[encoded data removed]",
      "text/plain": [
       "<Figure size 720x432 with 1 Axes>"
      ]
     },
     "metadata": {},
     "output_type": "display_data"
    },
    {
     "data": {
      "image/png": "[encoded data removed]",
      "text/plain": [
       "<Figure size 720x432 with 1 Axes>"
      ]
     },
     "metadata": {},
     "output_type": "display_data"
    },
    {
     "data": {
      "image/png": "[encoded data removed]",
      "text/plain": [
       "<Figure size 720x432 with 1 Axes>"
      ]
     },
     "metadata": {},
     "output_type": "display_data"
    },
    {
     "data": {
      "image/png": "[encoded data removed]",
      "text/plain": [
       "<Figure size 720x432 with 1 Axes>"
      ]
     },
     "metadata": {},
     "output_type": "display_data"
    },
    {
     "data": {
      "image/png": "[encoded data removed]",
      "text/plain": [
       "<Figure size 720x432 with 1 Axes>"
      ]
     },
     "metadata": {},
     "output_type": "display_data"
    },
    {
     "data": {
      "image/png": "[encoded data removed]",
      "text/plain": [
       "<Figure size 720x432 with 1 Axes>"
      ]
     },
     "metadata": {},
     "output_type": "display_data"
    }
   ],
   "source": [
    "# Crear un boxplot individual para cada columna numérica.\n",
    "for column in numeric.columns:\n",
    "    plt.figure(figsize=(10, 6))\n",
    "    sns.boxplot(y=numeric[column])\n",
    "    plt.title(f\"Boxplot de {column}\")\n",
    "    plt.xlabel(column)\n",
    "    plt.show()"
   ]
  },
  {
   "attachments": {},
   "cell_type": "markdown",
   "metadata": {},
   "source": [
    "##### Conclusiones sobre cambios a realizar en base a nuestro mapa de correlación y diagramas de caja:"
   ]
  },
  {
   "attachments": {},
   "cell_type": "markdown",
   "metadata": {},
   "source": [
    "- Podemos eliminar la variable `EDAD_COCHE` ya que las únicas correlaciones altas que tiene es con el número de revisiones y los kilómetros por año, lo cual es de sentido común, pues cuanto más años tiene un coche, más revisiones y kilómetros tiene.\n",
    "- También eliminamos la variable `Tiempo`.\n",
    "- Podemos pasar a rangos las variables `COSTE_VENTA` y `KM_ANNO` ya que contiene bastantes outliers."
   ]
  },
  {
   "cell_type": "code",
   "execution_count": 14,
   "metadata": {},
   "outputs": [],
   "source": [
    "# Función para eliminar columnas de un DataFrame.\n",
    "\n",
    "def eliminar_columnas(df, columnas):\n",
    "    df = df.drop(columnas, axis=1)\n",
    "    return df"
   ]
  },
  {
   "cell_type": "code",
   "execution_count": 15,
   "metadata": {},
   "outputs": [
    {
     "data": {
      "text/html": [
       "<div>\n",
       "<style scoped>\n",
       "    .dataframe tbody tr th:only-of-type {\n",
       "        vertical-align: middle;\n",
       "    }\n",
       "\n",
       "    .dataframe tbody tr th {\n",
       "        vertical-align: top;\n",
       "    }\n",
       "\n",
       "    .dataframe thead th {\n",
       "        text-align: right;\n",
       "    }\n",
       "</style>\n",
       "<table border=\"1\" class=\"dataframe\">\n",
       "  <thead>\n",
       "    <tr style=\"text-align: right;\">\n",
       "      <th></th>\n",
       "      <th>CODE</th>\n",
       "      <th>PRODUCTO</th>\n",
       "      <th>TIPO_CARROCERIA</th>\n",
       "      <th>COMBUSTIBLE</th>\n",
       "      <th>Potencia_</th>\n",
       "      <th>TRANS</th>\n",
       "      <th>FORMA_PAGO</th>\n",
       "      <th>ESTADO_CIVIL</th>\n",
       "      <th>GENERO</th>\n",
       "      <th>OcupaciOn</th>\n",
       "      <th>...</th>\n",
       "      <th>Campanna3</th>\n",
       "      <th>Zona _Renta</th>\n",
       "      <th>REV_Garantia</th>\n",
       "      <th>Averia_grave</th>\n",
       "      <th>QUEJA_CAC</th>\n",
       "      <th>COSTE_VENTA</th>\n",
       "      <th>km_anno</th>\n",
       "      <th>Mas_1_coche</th>\n",
       "      <th>Revisiones</th>\n",
       "      <th>Edad Cliente</th>\n",
       "    </tr>\n",
       "  </thead>\n",
       "  <tbody>\n",
       "    <tr>\n",
       "      <th>0</th>\n",
       "      <td>CLI1</td>\n",
       "      <td>A</td>\n",
       "      <td>TIPO1</td>\n",
       "      <td>FUEL 1</td>\n",
       "      <td>Baja</td>\n",
       "      <td>M</td>\n",
       "      <td>Contado</td>\n",
       "      <td>CASADO</td>\n",
       "      <td>M</td>\n",
       "      <td>Empresa</td>\n",
       "      <td>...</td>\n",
       "      <td>NO</td>\n",
       "      <td>Medio-Bajo</td>\n",
       "      <td>NO DATA</td>\n",
       "      <td>Averia muy grave</td>\n",
       "      <td>SI</td>\n",
       "      <td>2892</td>\n",
       "      <td>0</td>\n",
       "      <td>0</td>\n",
       "      <td>2</td>\n",
       "      <td>18</td>\n",
       "    </tr>\n",
       "    <tr>\n",
       "      <th>1</th>\n",
       "      <td>CLI2</td>\n",
       "      <td>A</td>\n",
       "      <td>TIPO1</td>\n",
       "      <td>FUEL 1</td>\n",
       "      <td>Baja</td>\n",
       "      <td>M</td>\n",
       "      <td>Contado</td>\n",
       "      <td>CASADO</td>\n",
       "      <td>F</td>\n",
       "      <td>Empresa</td>\n",
       "      <td>...</td>\n",
       "      <td>NO</td>\n",
       "      <td>Medio-Bajo</td>\n",
       "      <td>SI</td>\n",
       "      <td>No</td>\n",
       "      <td>NO</td>\n",
       "      <td>1376</td>\n",
       "      <td>7187</td>\n",
       "      <td>0</td>\n",
       "      <td>2</td>\n",
       "      <td>53</td>\n",
       "    </tr>\n",
       "    <tr>\n",
       "      <th>2</th>\n",
       "      <td>CLI3</td>\n",
       "      <td>A</td>\n",
       "      <td>TIPO1</td>\n",
       "      <td>FUEL 1</td>\n",
       "      <td>Baja</td>\n",
       "      <td>M</td>\n",
       "      <td>Otros</td>\n",
       "      <td>CASADO</td>\n",
       "      <td>M</td>\n",
       "      <td>Empresa</td>\n",
       "      <td>...</td>\n",
       "      <td>NO</td>\n",
       "      <td>Medio</td>\n",
       "      <td>NO DATA</td>\n",
       "      <td>No</td>\n",
       "      <td>NO</td>\n",
       "      <td>1376</td>\n",
       "      <td>0</td>\n",
       "      <td>1</td>\n",
       "      <td>4</td>\n",
       "      <td>21</td>\n",
       "    </tr>\n",
       "    <tr>\n",
       "      <th>3</th>\n",
       "      <td>CLI4</td>\n",
       "      <td>A</td>\n",
       "      <td>TIPO1</td>\n",
       "      <td>FUEL 1</td>\n",
       "      <td>Baja</td>\n",
       "      <td>M</td>\n",
       "      <td>Financiera Marca</td>\n",
       "      <td>CASADO</td>\n",
       "      <td>F</td>\n",
       "      <td>Empresa</td>\n",
       "      <td>...</td>\n",
       "      <td>NO</td>\n",
       "      <td>Medio</td>\n",
       "      <td>SI</td>\n",
       "      <td>Averia muy grave</td>\n",
       "      <td>SI</td>\n",
       "      <td>2015</td>\n",
       "      <td>7256</td>\n",
       "      <td>1</td>\n",
       "      <td>4</td>\n",
       "      <td>48</td>\n",
       "    </tr>\n",
       "    <tr>\n",
       "      <th>4</th>\n",
       "      <td>CLI5</td>\n",
       "      <td>A</td>\n",
       "      <td>TIPO1</td>\n",
       "      <td>FUEL 1</td>\n",
       "      <td>Baja</td>\n",
       "      <td>M</td>\n",
       "      <td>Financiera Marca</td>\n",
       "      <td>CASADO</td>\n",
       "      <td>F</td>\n",
       "      <td>Funcionario</td>\n",
       "      <td>...</td>\n",
       "      <td>SI</td>\n",
       "      <td>Alto</td>\n",
       "      <td>NO DATA</td>\n",
       "      <td>No</td>\n",
       "      <td>NO</td>\n",
       "      <td>1818</td>\n",
       "      <td>0</td>\n",
       "      <td>1</td>\n",
       "      <td>3</td>\n",
       "      <td>21</td>\n",
       "    </tr>\n",
       "    <tr>\n",
       "      <th>...</th>\n",
       "      <td>...</td>\n",
       "      <td>...</td>\n",
       "      <td>...</td>\n",
       "      <td>...</td>\n",
       "      <td>...</td>\n",
       "      <td>...</td>\n",
       "      <td>...</td>\n",
       "      <td>...</td>\n",
       "      <td>...</td>\n",
       "      <td>...</td>\n",
       "      <td>...</td>\n",
       "      <td>...</td>\n",
       "      <td>...</td>\n",
       "      <td>...</td>\n",
       "      <td>...</td>\n",
       "      <td>...</td>\n",
       "      <td>...</td>\n",
       "      <td>...</td>\n",
       "      <td>...</td>\n",
       "      <td>...</td>\n",
       "      <td>...</td>\n",
       "    </tr>\n",
       "    <tr>\n",
       "      <th>58044</th>\n",
       "      <td>CLI57905</td>\n",
       "      <td>F</td>\n",
       "      <td>TIPO3</td>\n",
       "      <td>FUEL 1</td>\n",
       "      <td>Alta</td>\n",
       "      <td>M</td>\n",
       "      <td>Contado</td>\n",
       "      <td>SOLTERO</td>\n",
       "      <td>F</td>\n",
       "      <td>Empresa</td>\n",
       "      <td>...</td>\n",
       "      <td>NO</td>\n",
       "      <td>Alto</td>\n",
       "      <td>SI</td>\n",
       "      <td>Averia muy grave</td>\n",
       "      <td>SI</td>\n",
       "      <td>6832</td>\n",
       "      <td>12528</td>\n",
       "      <td>0</td>\n",
       "      <td>5</td>\n",
       "      <td>38</td>\n",
       "    </tr>\n",
       "    <tr>\n",
       "      <th>58045</th>\n",
       "      <td>CLI57926</td>\n",
       "      <td>K</td>\n",
       "      <td>TIPO7</td>\n",
       "      <td>FUEL 1</td>\n",
       "      <td>Alta</td>\n",
       "      <td>A</td>\n",
       "      <td>Contado</td>\n",
       "      <td>CASADO</td>\n",
       "      <td>M</td>\n",
       "      <td>Empresa</td>\n",
       "      <td>...</td>\n",
       "      <td>NO</td>\n",
       "      <td>Medio-Bajo</td>\n",
       "      <td>NO DATA</td>\n",
       "      <td>No</td>\n",
       "      <td>SI</td>\n",
       "      <td>0</td>\n",
       "      <td>22072</td>\n",
       "      <td>0</td>\n",
       "      <td>3</td>\n",
       "      <td>54</td>\n",
       "    </tr>\n",
       "    <tr>\n",
       "      <th>58046</th>\n",
       "      <td>CLI57952</td>\n",
       "      <td>K</td>\n",
       "      <td>TIPO7</td>\n",
       "      <td>FUEL 1</td>\n",
       "      <td>Alta</td>\n",
       "      <td>A</td>\n",
       "      <td>Contado</td>\n",
       "      <td>CASADO</td>\n",
       "      <td>M</td>\n",
       "      <td>Empresa</td>\n",
       "      <td>...</td>\n",
       "      <td>NO</td>\n",
       "      <td>Medio</td>\n",
       "      <td>NO DATA</td>\n",
       "      <td>No</td>\n",
       "      <td>NO</td>\n",
       "      <td>0</td>\n",
       "      <td>8352</td>\n",
       "      <td>0</td>\n",
       "      <td>8</td>\n",
       "      <td>63</td>\n",
       "    </tr>\n",
       "    <tr>\n",
       "      <th>58047</th>\n",
       "      <td>CLI58038</td>\n",
       "      <td>G</td>\n",
       "      <td>TIPO5</td>\n",
       "      <td>FUEL 2</td>\n",
       "      <td>Media</td>\n",
       "      <td>M</td>\n",
       "      <td>Contado</td>\n",
       "      <td>CASADO</td>\n",
       "      <td>M</td>\n",
       "      <td>Empresa</td>\n",
       "      <td>...</td>\n",
       "      <td>NO</td>\n",
       "      <td>Medio-Bajo</td>\n",
       "      <td>NO DATA</td>\n",
       "      <td>No</td>\n",
       "      <td>NO</td>\n",
       "      <td>2786</td>\n",
       "      <td>10441</td>\n",
       "      <td>0</td>\n",
       "      <td>13</td>\n",
       "      <td>62</td>\n",
       "    </tr>\n",
       "    <tr>\n",
       "      <th>58048</th>\n",
       "      <td>CLI58048</td>\n",
       "      <td>G</td>\n",
       "      <td>TIPO5</td>\n",
       "      <td>FUEL 2</td>\n",
       "      <td>Media</td>\n",
       "      <td>M</td>\n",
       "      <td>Contado</td>\n",
       "      <td>OTROS</td>\n",
       "      <td>M</td>\n",
       "      <td>Empresa</td>\n",
       "      <td>...</td>\n",
       "      <td>NO</td>\n",
       "      <td>Alto</td>\n",
       "      <td>SI</td>\n",
       "      <td>Averia muy grave</td>\n",
       "      <td>SI</td>\n",
       "      <td>3514</td>\n",
       "      <td>17859</td>\n",
       "      <td>0</td>\n",
       "      <td>10</td>\n",
       "      <td>54</td>\n",
       "    </tr>\n",
       "  </tbody>\n",
       "</table>\n",
       "<p>58049 rows × 23 columns</p>\n",
       "</div>"
      ],
      "text/plain": [
       "           CODE PRODUCTO TIPO_CARROCERIA COMBUSTIBLE Potencia_ TRANS  \\\n",
       "0          CLI1        A           TIPO1      FUEL 1      Baja     M   \n",
       "1          CLI2        A           TIPO1      FUEL 1      Baja     M   \n",
       "2          CLI3        A           TIPO1      FUEL 1      Baja     M   \n",
       "3          CLI4        A           TIPO1      FUEL 1      Baja     M   \n",
       "4          CLI5        A           TIPO1      FUEL 1      Baja     M   \n",
       "...         ...      ...             ...         ...       ...   ...   \n",
       "58044  CLI57905        F           TIPO3      FUEL 1      Alta     M   \n",
       "58045  CLI57926        K           TIPO7      FUEL 1      Alta     A   \n",
       "58046  CLI57952        K           TIPO7      FUEL 1      Alta     A   \n",
       "58047  CLI58038        G           TIPO5      FUEL 2     Media     M   \n",
       "58048  CLI58048        G           TIPO5      FUEL 2     Media     M   \n",
       "\n",
       "             FORMA_PAGO ESTADO_CIVIL GENERO    OcupaciOn  ... Campanna3  \\\n",
       "0               Contado       CASADO      M      Empresa  ...        NO   \n",
       "1               Contado       CASADO      F      Empresa  ...        NO   \n",
       "2                 Otros       CASADO      M      Empresa  ...        NO   \n",
       "3      Financiera Marca       CASADO      F      Empresa  ...        NO   \n",
       "4      Financiera Marca       CASADO      F  Funcionario  ...        SI   \n",
       "...                 ...          ...    ...          ...  ...       ...   \n",
       "58044           Contado      SOLTERO      F      Empresa  ...        NO   \n",
       "58045           Contado       CASADO      M      Empresa  ...        NO   \n",
       "58046           Contado       CASADO      M      Empresa  ...        NO   \n",
       "58047           Contado       CASADO      M      Empresa  ...        NO   \n",
       "58048           Contado        OTROS      M      Empresa  ...        NO   \n",
       "\n",
       "      Zona _Renta REV_Garantia      Averia_grave QUEJA_CAC COSTE_VENTA  \\\n",
       "0      Medio-Bajo      NO DATA  Averia muy grave        SI        2892   \n",
       "1      Medio-Bajo           SI                No        NO        1376   \n",
       "2           Medio      NO DATA                No        NO        1376   \n",
       "3           Medio           SI  Averia muy grave        SI        2015   \n",
       "4            Alto      NO DATA                No        NO        1818   \n",
       "...           ...          ...               ...       ...         ...   \n",
       "58044        Alto           SI  Averia muy grave        SI        6832   \n",
       "58045  Medio-Bajo      NO DATA                No        SI           0   \n",
       "58046       Medio      NO DATA                No        NO           0   \n",
       "58047  Medio-Bajo      NO DATA                No        NO        2786   \n",
       "58048        Alto           SI  Averia muy grave        SI        3514   \n",
       "\n",
       "      km_anno Mas_1_coche  Revisiones  Edad Cliente  \n",
       "0           0           0           2            18  \n",
       "1        7187           0           2            53  \n",
       "2           0           1           4            21  \n",
       "3        7256           1           4            48  \n",
       "4           0           1           3            21  \n",
       "...       ...         ...         ...           ...  \n",
       "58044   12528           0           5            38  \n",
       "58045   22072           0           3            54  \n",
       "58046    8352           0           8            63  \n",
       "58047   10441           0          13            62  \n",
       "58048   17859           0          10            54  \n",
       "\n",
       "[58049 rows x 23 columns]"
      ]
     },
     "execution_count": 15,
     "metadata": {},
     "output_type": "execute_result"
    }
   ],
   "source": [
    "# Aplicamos la función a car_data para eliminar las columnas 'EDAD_COCHE', 'Tiempo'.\n",
    "columnas_a_eliminar = ['EDAD_COCHE', 'Tiempo']\n",
    "car_data = eliminar_columnas(car_data, columnas_a_eliminar)\n",
    "car_data"
   ]
  },
  {
   "cell_type": "code",
   "execution_count": 16,
   "metadata": {},
   "outputs": [
    {
     "name": "stdout",
     "output_type": "stream",
     "text": [
      "  COSTE_VENTA km_anno Edad Cliente\n",
      "0       2k-3k   0-10k        18-40\n",
      "1        0-2k   0-10k        50-60\n",
      "2        0-2k   0-10k        18-40\n",
      "3       2k-3k   0-10k        40-50\n",
      "4        0-2k   0-10k        18-40\n"
     ]
    }
   ],
   "source": [
    "# Función para transformar a rangos las variables.\n",
    "\n",
    "def categorizar_columnas(df, columna, bins, labels):\n",
    "    # Asegurarse de que la columna es numérica\n",
    "    df[columna] = pd.to_numeric(df[columna], errors='coerce')\n",
    "    \n",
    "    # Crear los rangos en la columna\n",
    "    df[columna] = pd.cut(df[columna], bins=bins, labels=labels, include_lowest=True)\n",
    "    \n",
    "    return df\n",
    "\n",
    "# Ejemplo 1: Categorizar COSTE_VENTA.\n",
    "coste_bins = [0, 2000, 3000, 5000, 10000, 21000]\n",
    "coste_labels = ['0-2k', '2k-3k', '3k-5k', '5k-10k', '10k-21k']\n",
    "car_data = categorizar_columnas(car_data, 'COSTE_VENTA', coste_bins, coste_labels)\n",
    "\n",
    "# Ejemplo 2: Categorizar km_anno.\n",
    "km_bins = [0, 10000, 20000, 30000, 50000, 100000, 200000]\n",
    "km_labels = ['0-10k', '10k-20k', '20k-30k', '30k-50k', '50k-100k', '100k+']\n",
    "car_data = categorizar_columnas(car_data, 'km_anno', km_bins, km_labels)\n",
    "\n",
    "# Ejemplo 3: Categorizar Edad Cliente.\n",
    "edad_bins = [18, 40, 50, 60, 80]\n",
    "edad_labels = ['18-40', '40-50', '50-60', '60+']\n",
    "car_data = categorizar_columnas(car_data, 'Edad Cliente', edad_bins, edad_labels)\n",
    "\n",
    "# Mostrar los primeros registros para verificar los rangos.\n",
    "print(car_data[['COSTE_VENTA', 'km_anno', 'Edad Cliente']].head())"
   ]
  },
  {
   "cell_type": "code",
   "execution_count": 17,
   "metadata": {},
   "outputs": [
    {
     "name": "stdout",
     "output_type": "stream",
     "text": [
      "0-2k       24824\n",
      "2k-3k      15832\n",
      "3k-5k      13023\n",
      "5k-10k      4293\n",
      "10k-21k       77\n",
      "Name: COSTE_VENTA, dtype: int64 0-10k       25531\n",
      "10k-20k     21589\n",
      "20k-30k      8429\n",
      "30k-50k      2307\n",
      "50k-100k      180\n",
      "100k+          13\n",
      "Name: km_anno, dtype: int64 40-50    18350\n",
      "50-60    18086\n",
      "18-40    15106\n",
      "60+       6507\n",
      "Name: Edad Cliente, dtype: int64\n"
     ]
    }
   ],
   "source": [
    "# Contar los registros por tipo de valor en las columnas cambiadas.\n",
    "conteo_valores_coste = car_data['COSTE_VENTA'].value_counts()\n",
    "conteo_valores_kmm = car_data['km_anno'].value_counts()\n",
    "conteo_valores_edad = car_data['Edad Cliente'].value_counts()\n",
    "\n",
    "print(conteo_valores_coste, conteo_valores_kmm, conteo_valores_edad)"
   ]
  },
  {
   "cell_type": "markdown",
   "metadata": {},
   "source": [
    "Identificamos los valores únicos de cada columna categórica en nuestro DataFrame."
   ]
  },
  {
   "cell_type": "code",
   "execution_count": 18,
   "metadata": {},
   "outputs": [
    {
     "name": "stdout",
     "output_type": "stream",
     "text": [
      "Valores únicos en la columna 'CODE':\n",
      "['CLI1' 'CLI2' 'CLI3' ... 'CLI57952' 'CLI58038' 'CLI58048']\n",
      "\n",
      "Valores únicos en la columna 'PRODUCTO':\n",
      "['A' 'B' 'C' 'H' 'J' 'D' 'I' 'E' 'F' 'K' 'G']\n",
      "\n",
      "Valores únicos en la columna 'TIPO_CARROCERIA':\n",
      "['TIPO1' 'TIPO6' 'TIPO4' 'TIPO7' 'TIPO8' 'TIPO2' 'TIPO3' 'TIPO5']\n",
      "\n",
      "Valores únicos en la columna 'COMBUSTIBLE':\n",
      "['FUEL 1' 'FUEL 2']\n",
      "\n",
      "Valores únicos en la columna 'Potencia_':\n",
      "['Baja' 'Media' 'Alta']\n",
      "\n",
      "Valores únicos en la columna 'TRANS':\n",
      "['M' 'A']\n",
      "\n",
      "Valores únicos en la columna 'FORMA_PAGO':\n",
      "['Contado' 'Otros' 'Financiera Marca' 'Financiera Banco']\n",
      "\n",
      "Valores únicos en la columna 'ESTADO_CIVIL':\n",
      "['CASADO' 'SOLTERO' 'OTROS' 'EN PAREJA']\n",
      "\n",
      "Valores únicos en la columna 'GENERO':\n",
      "['M' 'F']\n",
      "\n",
      "Valores únicos en la columna 'OcupaciOn':\n",
      "['Empresa' 'Funcionario' 'Autonomo']\n",
      "\n",
      "Valores únicos en la columna 'PROVINCIA':\n",
      "['Asturias' 'Toledo' 'Lerida' 'Madrid' 'Santa Cruz de Tenerife'\n",
      " 'Pontevedra' 'Lacoruna' 'Barcelona' 'Cordoba' 'Guipuzcua' 'Valladolid'\n",
      " 'Castellon' 'Valencia' 'Las Palmas' 'La Rioja' 'Baleares' 'Zaragoza'\n",
      " 'Alicante' 'Tarragona' 'Leon' 'Lugo' 'Badajoz' 'Vizcaya' 'Sevilla'\n",
      " 'Guadalajara' 'Ciudad Real' 'Cantabria' 'Orense' 'Navarra' 'Gerona'\n",
      " 'Malaga' 'Jaen' 'Murcia' 'Burgos' 'Granada' 'Alava' 'Cuenca' 'Cadiz'\n",
      " 'Salamanca' 'Albacete' 'Almeria' 'Teruel' 'Segovia' 'Palencia' 'Huelva'\n",
      " 'Huesca' 'Zamora' 'Avila' 'Soria' 'Caceres' 'Melilla' 'Ceuta' 'Francia']\n",
      "\n",
      "Valores únicos en la columna 'Campanna1':\n",
      "['SI' 'NO']\n",
      "\n",
      "Valores únicos en la columna 'Campanna2':\n",
      "['NO' 'SI']\n",
      "\n",
      "Valores únicos en la columna 'Campanna3':\n",
      "['NO' 'SI']\n",
      "\n",
      "Valores únicos en la columna 'Zona _Renta':\n",
      "['Medio-Bajo' 'Medio' 'Alto' 'Otros']\n",
      "\n",
      "Valores únicos en la columna 'REV_Garantia':\n",
      "['NO DATA' 'SI']\n",
      "\n",
      "Valores únicos en la columna 'Averia_grave':\n",
      "['Averia muy grave' 'No' 'Averia leve' 'Averia grave']\n",
      "\n",
      "Valores únicos en la columna 'QUEJA_CAC':\n",
      "['SI' 'NO']\n",
      "\n"
     ]
    }
   ],
   "source": [
    "# Almacenar las columnas categóricas en una variable\n",
    "cols_categoricas = categorical.columns\n",
    "\n",
    "# Mostrar los valores únicos de las columnas categóricas\n",
    "for col in cols_categoricas:\n",
    "    print(f\"Valores únicos en la columna '{col}':\")\n",
    "    print(car_data[col].unique())\n",
    "    print()  # Salto de línea para mejor visualización"
   ]
  },
  {
   "cell_type": "markdown",
   "metadata": {},
   "source": [
    "Eliminamos la variable CODE, ya que por su naturaleza sabemos que no nos va a portar nada de información para nuestra futura predicción.\n",
    "\n",
    "Por otro lado, aplicamos LabelEncoder para transformar el resto de las variables categóricas a numéricas. A su vez, almacenamos estos cambios en un diccionario para saber qué números corresponden a cada string."
   ]
  },
  {
   "cell_type": "code",
   "execution_count": 19,
   "metadata": {},
   "outputs": [],
   "source": [
    "# Eliminamos la columna 'CODE'.\n",
    "car_data = eliminar_columnas(car_data, ['CODE'])"
   ]
  },
  {
   "cell_type": "code",
   "execution_count": 20,
   "metadata": {},
   "outputs": [
    {
     "name": "stdout",
     "output_type": "stream",
     "text": [
      "Mapeo de 'Potencia_': {'Alta': 0, 'Baja': 1, 'Media': 2}\n",
      "Mapeo de 'Zona _Renta': {'Alto': 0, 'Medio': 1, 'Medio-Bajo': 2, 'Otros': 3}\n",
      "Mapeo de 'PRODUCTO': {'A': 0, 'B': 1, 'C': 2, 'D': 3, 'E': 4, 'F': 5, 'G': 6, 'H': 7, 'I': 8, 'J': 9, 'K': 10}\n",
      "Mapeo de 'TIPO_CARROCERIA': {'TIPO1': 0, 'TIPO2': 1, 'TIPO3': 2, 'TIPO4': 3, 'TIPO5': 4, 'TIPO6': 5, 'TIPO7': 6, 'TIPO8': 7}\n",
      "Mapeo de 'COMBUSTIBLE': {'FUEL 1': 0, 'FUEL 2': 1}\n",
      "Mapeo de 'TRANS': {'A': 0, 'M': 1}\n",
      "Mapeo de 'FORMA_PAGO': {'Contado': 0, 'Financiera Banco': 1, 'Financiera Marca': 2, 'Otros': 3}\n",
      "Mapeo de 'ESTADO_CIVIL': {'CASADO': 0, 'EN PAREJA': 1, 'OTROS': 2, 'SOLTERO': 3}\n",
      "Mapeo de 'GENERO': {'F': 0, 'M': 1}\n",
      "Mapeo de 'OcupaciOn': {'Autonomo': 0, 'Empresa': 1, 'Funcionario': 2}\n",
      "Mapeo de 'PROVINCIA': {'Alava': 0, 'Albacete': 1, 'Alicante': 2, 'Almeria': 3, 'Asturias': 4, 'Avila': 5, 'Badajoz': 6, 'Baleares': 7, 'Barcelona': 8, 'Burgos': 9, 'Caceres': 10, 'Cadiz': 11, 'Cantabria': 12, 'Castellon': 13, 'Ceuta': 14, 'Ciudad Real': 15, 'Cordoba': 16, 'Cuenca': 17, 'Francia': 18, 'Gerona': 19, 'Granada': 20, 'Guadalajara': 21, 'Guipuzcua': 22, 'Huelva': 23, 'Huesca': 24, 'Jaen': 25, 'La Rioja': 26, 'Lacoruna': 27, 'Las Palmas': 28, 'Leon': 29, 'Lerida': 30, 'Lugo': 31, 'Madrid': 32, 'Malaga': 33, 'Melilla': 34, 'Murcia': 35, 'Navarra': 36, 'Orense': 37, 'Palencia': 38, 'Pontevedra': 39, 'Salamanca': 40, 'Santa Cruz de Tenerife': 41, 'Segovia': 42, 'Sevilla': 43, 'Soria': 44, 'Tarragona': 45, 'Teruel': 46, 'Toledo': 47, 'Valencia': 48, 'Valladolid': 49, 'Vizcaya': 50, 'Zamora': 51, 'Zaragoza': 52}\n",
      "Mapeo de 'Campanna1': {'NO': 0, 'SI': 1}\n",
      "Mapeo de 'Campanna2': {'NO': 0, 'SI': 1}\n",
      "Mapeo de 'Campanna3': {'NO': 0, 'SI': 1}\n",
      "Mapeo de 'REV_Garantia': {'NO DATA': 0, 'SI': 1}\n",
      "Mapeo de 'QUEJA_CAC': {'NO': 0, 'SI': 1}\n",
      "Mapeo de 'Averia_grave': {'Averia grave': 0, 'Averia leve': 1, 'Averia muy grave': 2, 'No': 3}\n",
      "Mapeo de 'COSTE_VENTA': {'0-2k': 0, '10k-21k': 1, '2k-3k': 2, '3k-5k': 3, '5k-10k': 4}\n",
      "Mapeo de 'km_anno': {'0-10k': 0, '100k+': 1, '10k-20k': 2, '20k-30k': 3, '30k-50k': 4, '50k-100k': 5}\n",
      "Mapeo de 'Edad Cliente': {'18-40': 0, '40-50': 1, '50-60': 2, '60+': 3}\n"
     ]
    }
   ],
   "source": [
    "# Función para cambiar a numericas las variables categoricas.\n",
    "\n",
    "def aplicar_labelencoder(df, columnas):\n",
    "    mappings = {}  # Diccionario para almacenar los mapeos\n",
    "\n",
    "    for col in columnas:\n",
    "        le = LabelEncoder().fit(df[col])\n",
    "        df[col] = le.transform(df[col].astype(str))  # Convertir valores a string para manejar NaNs\n",
    "        mappings[col] = dict(zip(le.classes_, le.transform(le.classes_)))  # Guardar el mapeo\n",
    "\n",
    "    return df, mappings\n",
    "\n",
    "cols_labelencoder = ['Potencia_', 'Zona _Renta', 'PRODUCTO', 'TIPO_CARROCERIA', 'COMBUSTIBLE', \n",
    "                     'TRANS', 'FORMA_PAGO', 'ESTADO_CIVIL', 'GENERO', 'OcupaciOn', 'PROVINCIA',\n",
    "                     'Campanna1', 'Campanna2', 'Campanna3', 'REV_Garantia', \n",
    "                     'QUEJA_CAC', 'Averia_grave', 'COSTE_VENTA', 'km_anno', 'Edad Cliente']\n",
    "\n",
    "car_data, mappings = aplicar_labelencoder(car_data, cols_labelencoder)\n",
    "\n",
    "# Mostrar los diccionarios de mapeo para cada columna\n",
    "for col, mapping in mappings.items():\n",
    "    print(f\"Mapeo de '{col}':\", mapping)"
   ]
  },
  {
   "cell_type": "markdown",
   "metadata": {},
   "source": [
    "Verificamos que los datos de nuestro DataFrame sean todos numéricos."
   ]
  },
  {
   "cell_type": "code",
   "execution_count": 21,
   "metadata": {},
   "outputs": [
    {
     "data": {
      "text/html": [
       "<div>\n",
       "<style scoped>\n",
       "    .dataframe tbody tr th:only-of-type {\n",
       "        vertical-align: middle;\n",
       "    }\n",
       "\n",
       "    .dataframe tbody tr th {\n",
       "        vertical-align: top;\n",
       "    }\n",
       "\n",
       "    .dataframe thead th {\n",
       "        text-align: right;\n",
       "    }\n",
       "</style>\n",
       "<table border=\"1\" class=\"dataframe\">\n",
       "  <thead>\n",
       "    <tr style=\"text-align: right;\">\n",
       "      <th></th>\n",
       "      <th>PRODUCTO</th>\n",
       "      <th>TIPO_CARROCERIA</th>\n",
       "      <th>COMBUSTIBLE</th>\n",
       "      <th>Potencia_</th>\n",
       "      <th>TRANS</th>\n",
       "      <th>FORMA_PAGO</th>\n",
       "      <th>ESTADO_CIVIL</th>\n",
       "      <th>GENERO</th>\n",
       "      <th>OcupaciOn</th>\n",
       "      <th>PROVINCIA</th>\n",
       "      <th>...</th>\n",
       "      <th>Campanna3</th>\n",
       "      <th>Zona _Renta</th>\n",
       "      <th>REV_Garantia</th>\n",
       "      <th>Averia_grave</th>\n",
       "      <th>QUEJA_CAC</th>\n",
       "      <th>COSTE_VENTA</th>\n",
       "      <th>km_anno</th>\n",
       "      <th>Mas_1_coche</th>\n",
       "      <th>Revisiones</th>\n",
       "      <th>Edad Cliente</th>\n",
       "    </tr>\n",
       "  </thead>\n",
       "  <tbody>\n",
       "    <tr>\n",
       "      <th>0</th>\n",
       "      <td>0</td>\n",
       "      <td>0</td>\n",
       "      <td>0</td>\n",
       "      <td>1</td>\n",
       "      <td>1</td>\n",
       "      <td>0</td>\n",
       "      <td>0</td>\n",
       "      <td>1</td>\n",
       "      <td>1</td>\n",
       "      <td>4</td>\n",
       "      <td>...</td>\n",
       "      <td>0</td>\n",
       "      <td>2</td>\n",
       "      <td>0</td>\n",
       "      <td>2</td>\n",
       "      <td>1</td>\n",
       "      <td>2</td>\n",
       "      <td>0</td>\n",
       "      <td>0</td>\n",
       "      <td>2</td>\n",
       "      <td>0</td>\n",
       "    </tr>\n",
       "    <tr>\n",
       "      <th>1</th>\n",
       "      <td>0</td>\n",
       "      <td>0</td>\n",
       "      <td>0</td>\n",
       "      <td>1</td>\n",
       "      <td>1</td>\n",
       "      <td>0</td>\n",
       "      <td>0</td>\n",
       "      <td>0</td>\n",
       "      <td>1</td>\n",
       "      <td>47</td>\n",
       "      <td>...</td>\n",
       "      <td>0</td>\n",
       "      <td>2</td>\n",
       "      <td>1</td>\n",
       "      <td>3</td>\n",
       "      <td>0</td>\n",
       "      <td>0</td>\n",
       "      <td>0</td>\n",
       "      <td>0</td>\n",
       "      <td>2</td>\n",
       "      <td>2</td>\n",
       "    </tr>\n",
       "    <tr>\n",
       "      <th>2</th>\n",
       "      <td>0</td>\n",
       "      <td>0</td>\n",
       "      <td>0</td>\n",
       "      <td>1</td>\n",
       "      <td>1</td>\n",
       "      <td>3</td>\n",
       "      <td>0</td>\n",
       "      <td>1</td>\n",
       "      <td>1</td>\n",
       "      <td>30</td>\n",
       "      <td>...</td>\n",
       "      <td>0</td>\n",
       "      <td>1</td>\n",
       "      <td>0</td>\n",
       "      <td>3</td>\n",
       "      <td>0</td>\n",
       "      <td>0</td>\n",
       "      <td>0</td>\n",
       "      <td>1</td>\n",
       "      <td>4</td>\n",
       "      <td>0</td>\n",
       "    </tr>\n",
       "    <tr>\n",
       "      <th>3</th>\n",
       "      <td>0</td>\n",
       "      <td>0</td>\n",
       "      <td>0</td>\n",
       "      <td>1</td>\n",
       "      <td>1</td>\n",
       "      <td>2</td>\n",
       "      <td>0</td>\n",
       "      <td>0</td>\n",
       "      <td>1</td>\n",
       "      <td>32</td>\n",
       "      <td>...</td>\n",
       "      <td>0</td>\n",
       "      <td>1</td>\n",
       "      <td>1</td>\n",
       "      <td>2</td>\n",
       "      <td>1</td>\n",
       "      <td>2</td>\n",
       "      <td>0</td>\n",
       "      <td>1</td>\n",
       "      <td>4</td>\n",
       "      <td>1</td>\n",
       "    </tr>\n",
       "    <tr>\n",
       "      <th>4</th>\n",
       "      <td>0</td>\n",
       "      <td>0</td>\n",
       "      <td>0</td>\n",
       "      <td>1</td>\n",
       "      <td>1</td>\n",
       "      <td>2</td>\n",
       "      <td>0</td>\n",
       "      <td>0</td>\n",
       "      <td>2</td>\n",
       "      <td>41</td>\n",
       "      <td>...</td>\n",
       "      <td>1</td>\n",
       "      <td>0</td>\n",
       "      <td>0</td>\n",
       "      <td>3</td>\n",
       "      <td>0</td>\n",
       "      <td>0</td>\n",
       "      <td>0</td>\n",
       "      <td>1</td>\n",
       "      <td>3</td>\n",
       "      <td>0</td>\n",
       "    </tr>\n",
       "    <tr>\n",
       "      <th>...</th>\n",
       "      <td>...</td>\n",
       "      <td>...</td>\n",
       "      <td>...</td>\n",
       "      <td>...</td>\n",
       "      <td>...</td>\n",
       "      <td>...</td>\n",
       "      <td>...</td>\n",
       "      <td>...</td>\n",
       "      <td>...</td>\n",
       "      <td>...</td>\n",
       "      <td>...</td>\n",
       "      <td>...</td>\n",
       "      <td>...</td>\n",
       "      <td>...</td>\n",
       "      <td>...</td>\n",
       "      <td>...</td>\n",
       "      <td>...</td>\n",
       "      <td>...</td>\n",
       "      <td>...</td>\n",
       "      <td>...</td>\n",
       "      <td>...</td>\n",
       "    </tr>\n",
       "    <tr>\n",
       "      <th>58044</th>\n",
       "      <td>5</td>\n",
       "      <td>2</td>\n",
       "      <td>0</td>\n",
       "      <td>0</td>\n",
       "      <td>1</td>\n",
       "      <td>0</td>\n",
       "      <td>3</td>\n",
       "      <td>0</td>\n",
       "      <td>1</td>\n",
       "      <td>32</td>\n",
       "      <td>...</td>\n",
       "      <td>0</td>\n",
       "      <td>0</td>\n",
       "      <td>1</td>\n",
       "      <td>2</td>\n",
       "      <td>1</td>\n",
       "      <td>4</td>\n",
       "      <td>2</td>\n",
       "      <td>0</td>\n",
       "      <td>5</td>\n",
       "      <td>0</td>\n",
       "    </tr>\n",
       "    <tr>\n",
       "      <th>58045</th>\n",
       "      <td>10</td>\n",
       "      <td>6</td>\n",
       "      <td>0</td>\n",
       "      <td>0</td>\n",
       "      <td>0</td>\n",
       "      <td>0</td>\n",
       "      <td>0</td>\n",
       "      <td>1</td>\n",
       "      <td>1</td>\n",
       "      <td>2</td>\n",
       "      <td>...</td>\n",
       "      <td>0</td>\n",
       "      <td>2</td>\n",
       "      <td>0</td>\n",
       "      <td>3</td>\n",
       "      <td>1</td>\n",
       "      <td>0</td>\n",
       "      <td>3</td>\n",
       "      <td>0</td>\n",
       "      <td>3</td>\n",
       "      <td>2</td>\n",
       "    </tr>\n",
       "    <tr>\n",
       "      <th>58046</th>\n",
       "      <td>10</td>\n",
       "      <td>6</td>\n",
       "      <td>0</td>\n",
       "      <td>0</td>\n",
       "      <td>0</td>\n",
       "      <td>0</td>\n",
       "      <td>0</td>\n",
       "      <td>1</td>\n",
       "      <td>1</td>\n",
       "      <td>32</td>\n",
       "      <td>...</td>\n",
       "      <td>0</td>\n",
       "      <td>1</td>\n",
       "      <td>0</td>\n",
       "      <td>3</td>\n",
       "      <td>0</td>\n",
       "      <td>0</td>\n",
       "      <td>0</td>\n",
       "      <td>0</td>\n",
       "      <td>8</td>\n",
       "      <td>3</td>\n",
       "    </tr>\n",
       "    <tr>\n",
       "      <th>58047</th>\n",
       "      <td>6</td>\n",
       "      <td>4</td>\n",
       "      <td>1</td>\n",
       "      <td>2</td>\n",
       "      <td>1</td>\n",
       "      <td>0</td>\n",
       "      <td>0</td>\n",
       "      <td>1</td>\n",
       "      <td>1</td>\n",
       "      <td>52</td>\n",
       "      <td>...</td>\n",
       "      <td>0</td>\n",
       "      <td>2</td>\n",
       "      <td>0</td>\n",
       "      <td>3</td>\n",
       "      <td>0</td>\n",
       "      <td>2</td>\n",
       "      <td>2</td>\n",
       "      <td>0</td>\n",
       "      <td>13</td>\n",
       "      <td>3</td>\n",
       "    </tr>\n",
       "    <tr>\n",
       "      <th>58048</th>\n",
       "      <td>6</td>\n",
       "      <td>4</td>\n",
       "      <td>1</td>\n",
       "      <td>2</td>\n",
       "      <td>1</td>\n",
       "      <td>0</td>\n",
       "      <td>2</td>\n",
       "      <td>1</td>\n",
       "      <td>1</td>\n",
       "      <td>46</td>\n",
       "      <td>...</td>\n",
       "      <td>0</td>\n",
       "      <td>0</td>\n",
       "      <td>1</td>\n",
       "      <td>2</td>\n",
       "      <td>1</td>\n",
       "      <td>3</td>\n",
       "      <td>2</td>\n",
       "      <td>0</td>\n",
       "      <td>10</td>\n",
       "      <td>2</td>\n",
       "    </tr>\n",
       "  </tbody>\n",
       "</table>\n",
       "<p>58049 rows × 22 columns</p>\n",
       "</div>"
      ],
      "text/plain": [
       "       PRODUCTO  TIPO_CARROCERIA  COMBUSTIBLE  Potencia_  TRANS  FORMA_PAGO  \\\n",
       "0             0                0            0          1      1           0   \n",
       "1             0                0            0          1      1           0   \n",
       "2             0                0            0          1      1           3   \n",
       "3             0                0            0          1      1           2   \n",
       "4             0                0            0          1      1           2   \n",
       "...         ...              ...          ...        ...    ...         ...   \n",
       "58044         5                2            0          0      1           0   \n",
       "58045        10                6            0          0      0           0   \n",
       "58046        10                6            0          0      0           0   \n",
       "58047         6                4            1          2      1           0   \n",
       "58048         6                4            1          2      1           0   \n",
       "\n",
       "       ESTADO_CIVIL  GENERO  OcupaciOn  PROVINCIA  ...  Campanna3  \\\n",
       "0                 0       1          1          4  ...          0   \n",
       "1                 0       0          1         47  ...          0   \n",
       "2                 0       1          1         30  ...          0   \n",
       "3                 0       0          1         32  ...          0   \n",
       "4                 0       0          2         41  ...          1   \n",
       "...             ...     ...        ...        ...  ...        ...   \n",
       "58044             3       0          1         32  ...          0   \n",
       "58045             0       1          1          2  ...          0   \n",
       "58046             0       1          1         32  ...          0   \n",
       "58047             0       1          1         52  ...          0   \n",
       "58048             2       1          1         46  ...          0   \n",
       "\n",
       "       Zona _Renta  REV_Garantia  Averia_grave  QUEJA_CAC  COSTE_VENTA  \\\n",
       "0                2             0             2          1            2   \n",
       "1                2             1             3          0            0   \n",
       "2                1             0             3          0            0   \n",
       "3                1             1             2          1            2   \n",
       "4                0             0             3          0            0   \n",
       "...            ...           ...           ...        ...          ...   \n",
       "58044            0             1             2          1            4   \n",
       "58045            2             0             3          1            0   \n",
       "58046            1             0             3          0            0   \n",
       "58047            2             0             3          0            2   \n",
       "58048            0             1             2          1            3   \n",
       "\n",
       "       km_anno  Mas_1_coche  Revisiones  Edad Cliente  \n",
       "0            0            0           2             0  \n",
       "1            0            0           2             2  \n",
       "2            0            1           4             0  \n",
       "3            0            1           4             1  \n",
       "4            0            1           3             0  \n",
       "...        ...          ...         ...           ...  \n",
       "58044        2            0           5             0  \n",
       "58045        3            0           3             2  \n",
       "58046        0            0           8             3  \n",
       "58047        2            0          13             3  \n",
       "58048        2            0          10             2  \n",
       "\n",
       "[58049 rows x 22 columns]"
      ]
     },
     "execution_count": 21,
     "metadata": {},
     "output_type": "execute_result"
    }
   ],
   "source": [
    "car_data"
   ]
  },
  {
   "cell_type": "code",
   "execution_count": 22,
   "metadata": {},
   "outputs": [
    {
     "data": {
      "text/plain": [
       "PRODUCTO           int32\n",
       "TIPO_CARROCERIA    int32\n",
       "COMBUSTIBLE        int32\n",
       "Potencia_          int32\n",
       "TRANS              int32\n",
       "FORMA_PAGO         int32\n",
       "ESTADO_CIVIL       int32\n",
       "GENERO             int32\n",
       "OcupaciOn          int32\n",
       "PROVINCIA          int32\n",
       "Campanna1          int32\n",
       "Campanna2          int32\n",
       "Campanna3          int32\n",
       "Zona _Renta        int32\n",
       "REV_Garantia       int32\n",
       "Averia_grave       int32\n",
       "QUEJA_CAC          int32\n",
       "COSTE_VENTA        int32\n",
       "km_anno            int32\n",
       "Mas_1_coche        int64\n",
       "Revisiones         int64\n",
       "Edad Cliente       int32\n",
       "dtype: object"
      ]
     },
     "execution_count": 22,
     "metadata": {},
     "output_type": "execute_result"
    }
   ],
   "source": [
    "car_data.dtypes"
   ]
  },
  {
   "cell_type": "markdown",
   "metadata": {},
   "source": [
    "Ahora podemos analizar la correlación del DataFrame completo. "
   ]
  },
  {
   "cell_type": "code",
   "execution_count": 23,
   "metadata": {},
   "outputs": [
    {
     "data": {
      "image/png": "[encoded data removed]",
      "text/plain": [
       "<Figure size 1080x720 with 2 Axes>"
      ]
     },
     "metadata": {},
     "output_type": "display_data"
    }
   ],
   "source": [
    "mapa_correlacion(car_data)"
   ]
  },
  {
   "attachments": {},
   "cell_type": "markdown",
   "metadata": {},
   "source": [
    "No observamos que haya columnas especialmente conflictivas, por lo que no es necesario eliminar ninguna columna de más."
   ]
  },
  {
   "cell_type": "markdown",
   "metadata": {},
   "source": [
    "Repetimos el mismo proceso en nuestro otro set de datos, que usaremos posteriormente para predecir qué clietes comprarán más de un coche."
   ]
  },
  {
   "cell_type": "code",
   "execution_count": 25,
   "metadata": {},
   "outputs": [],
   "source": [
    "# Creamos otro DataFrame de nuestros datos.\n",
    "car_data_input = pd.read_csv('../data/cars_input.csv', sep=';')"
   ]
  },
  {
   "cell_type": "markdown",
   "metadata": {},
   "source": [
    "Ambos DataFrames deben tener las mismas columnas. Eliminaremos las columnas que estén en `car_data_input` pero no estén en `car_data`."
   ]
  },
  {
   "cell_type": "code",
   "execution_count": 26,
   "metadata": {},
   "outputs": [],
   "source": [
    "# Identificamos columnas que están en car_data_input pero no en car_data.\n",
    "columnas_diferentes = car_data_input.columns.difference(car_data.columns)\n",
    "\n",
    "# Eliminamos esas columnas de car_data_input\n",
    "car_data_input = car_data_input.drop(columns=columnas_diferentes)"
   ]
  },
  {
   "cell_type": "markdown",
   "metadata": {},
   "source": [
    "Revisamos que no haya valores nulos en el nuevo DataFrame."
   ]
  },
  {
   "cell_type": "code",
   "execution_count": 27,
   "metadata": {},
   "outputs": [
    {
     "data": {
      "text/plain": [
       "PRODUCTO              0\n",
       "TIPO_CARROCERIA       0\n",
       "COMBUSTIBLE           0\n",
       "Potencia_             0\n",
       "TRANS                 0\n",
       "FORMA_PAGO            0\n",
       "ESTADO_CIVIL        340\n",
       "GENERO              327\n",
       "OcupaciOn             0\n",
       "PROVINCIA             0\n",
       "Campanna1             0\n",
       "Campanna2             0\n",
       "Campanna3             0\n",
       "Zona _Renta        5305\n",
       "REV_Garantia          0\n",
       "Averia_grave          1\n",
       "QUEJA_CAC             0\n",
       "COSTE_VENTA           0\n",
       "km_anno               0\n",
       "Revisiones            0\n",
       "Edad Cliente          0\n",
       "dtype: int64"
      ]
     },
     "execution_count": 27,
     "metadata": {},
     "output_type": "execute_result"
    }
   ],
   "source": [
    "# Revisamos si hay valores nulos en nuestro DataFrame.\n",
    "valores_nulos = car_data_input.isnull().sum()\n",
    "\n",
    "# Mostramos los valores nulos.\n",
    "valores_nulos"
   ]
  },
  {
   "cell_type": "markdown",
   "metadata": {},
   "source": [
    "Sustituimos los valores nulos por la moda."
   ]
  },
  {
   "cell_type": "code",
   "execution_count": 28,
   "metadata": {},
   "outputs": [],
   "source": [
    "# Función para sustituir los valores nulos en las columnas especificadas por la moda (valor más frecuente).\n",
    "def valores_nulos(df, columnas):\n",
    "    for columna in columnas:\n",
    "        if columna in df.columns:  # Verificar si la columna existe en el DataFrame\n",
    "            if df[columna].isnull().any():  # Solo si hay valores nulos\n",
    "                try:\n",
    "                    # Obtener la moda (valor más frecuente)\n",
    "                    moda = df[columna].mode()[0]  # Usar [0] para seleccionar el primer valor en caso de múltiples modos\n",
    "                    df[columna].fillna(moda, inplace=True)\n",
    "                except IndexError:\n",
    "                    print(f\"No se pudo obtener la moda para la columna: {columna}\")\n",
    "            else:\n",
    "                print(f\"No hay valores nulos en la columna: {columna}\")\n",
    "        else:\n",
    "            print(f\"La columna '{columna}' no existe en el DataFrame\")\n",
    "    return df\n",
    "\n",
    "# Aplicamos la función valores_nulos a car_data_input, no hace falta redefinir la variable columnas_nulos.\n",
    "car_data_input = valores_nulos(car_data_input, columnas_nulos)"
   ]
  },
  {
   "cell_type": "markdown",
   "metadata": {},
   "source": [
    "No hace falta que miremos si hay valores duplicados ya que este set de datos no servirá para entrenarlo El siguiente paso es categorizar ciertas las columnas."
   ]
  },
  {
   "cell_type": "code",
   "execution_count": 29,
   "metadata": {},
   "outputs": [],
   "source": [
    "# Ejemplo 1: Categorizar COSTE_VENTA.\n",
    "car_data_input_sin_duplicados = categorizar_columnas(car_data_input, 'COSTE_VENTA', coste_bins, coste_labels)\n",
    "\n",
    "# Ejemplo 2: Categorizar km_anno.\n",
    "car_data_input_sin_duplicados = categorizar_columnas(car_data_input, 'km_anno', km_bins, km_labels)\n",
    "\n",
    "# Ejemplo 3: Categorizar Edad Cliente.\n",
    "car_data_input_sin_duplicados = categorizar_columnas(car_data_input, 'Edad Cliente', edad_bins, edad_labels)"
   ]
  },
  {
   "cell_type": "markdown",
   "metadata": {},
   "source": [
    "Pasamos las variables categóricas a numéricas usando el mismo mapea que aplicamos al DataFrame anterior."
   ]
  },
  {
   "cell_type": "code",
   "execution_count": 30,
   "metadata": {},
   "outputs": [],
   "source": [
    "# Función que aplicará el mapeo a un nuevo DataFrame.\n",
    "def aplicar_mapeo(df, mappings):\n",
    "    for columna, mapeo in mappings.items():\n",
    "        if columna in df.columns:  # Verifica que la columna exista en el nuevo DataFrame.\n",
    "            df[columna] = df[columna].map(mapeo)  # Aplica el mapeo con map().\n",
    "        else:\n",
    "            print(f\"Columna {columna} no encontrada en el DataFrame\")\n",
    "    return df\n",
    "\n",
    "# Aplicamos el mapeo a car_data_input_sin_duplicados.\n",
    "car_data_input = aplicar_mapeo(car_data_input, mappings)"
   ]
  },
  {
   "cell_type": "markdown",
   "metadata": {},
   "source": [
    "Ahora debemos tener un DataFrame completamente numérico y sin valores nulos. "
   ]
  },
  {
   "cell_type": "code",
   "execution_count": 31,
   "metadata": {},
   "outputs": [
    {
     "name": "stdout",
     "output_type": "stream",
     "text": [
      "<class 'pandas.core.frame.DataFrame'>\n",
      "RangeIndex: 23230 entries, 0 to 23229\n",
      "Data columns (total 21 columns):\n",
      " #   Column           Non-Null Count  Dtype   \n",
      "---  ------           --------------  -----   \n",
      " 0   PRODUCTO         23230 non-null  int32   \n",
      " 1   TIPO_CARROCERIA  23230 non-null  int32   \n",
      " 2   COMBUSTIBLE      23230 non-null  int32   \n",
      " 3   Potencia_        23230 non-null  int32   \n",
      " 4   TRANS            23230 non-null  int32   \n",
      " 5   FORMA_PAGO       23230 non-null  int32   \n",
      " 6   ESTADO_CIVIL     23230 non-null  int32   \n",
      " 7   GENERO           23230 non-null  int32   \n",
      " 8   OcupaciOn        23230 non-null  int32   \n",
      " 9   PROVINCIA        23230 non-null  int32   \n",
      " 10  Campanna1        23230 non-null  int32   \n",
      " 11  Campanna2        23230 non-null  int32   \n",
      " 12  Campanna3        23230 non-null  int32   \n",
      " 13  Zona _Renta      23230 non-null  int32   \n",
      " 14  REV_Garantia     23230 non-null  int32   \n",
      " 15  Averia_grave     23230 non-null  int32   \n",
      " 16  QUEJA_CAC        23230 non-null  int32   \n",
      " 17  COSTE_VENTA      23230 non-null  category\n",
      " 18  km_anno          23230 non-null  category\n",
      " 19  Revisiones       23230 non-null  int64   \n",
      " 20  Edad Cliente     23230 non-null  category\n",
      "dtypes: category(3), int32(17), int64(1)\n",
      "memory usage: 1.8 MB\n"
     ]
    }
   ],
   "source": [
    "car_data_input.info()"
   ]
  },
  {
   "cell_type": "markdown",
   "metadata": {},
   "source": [
    "Una vez echa la limpieza, exportamos nuestros datos modificados."
   ]
  },
  {
   "cell_type": "code",
   "execution_count": 32,
   "metadata": {},
   "outputs": [
    {
     "name": "stdout",
     "output_type": "stream",
     "text": [
      "Archivo guardado en: ../data\\car_data_clean.csv\n",
      "Archivo guardado en: ../data\\car_data_input_clean.csv\n"
     ]
    },
    {
     "data": {
      "text/plain": [
       "'../data\\\\car_data_input_clean.csv'"
      ]
     },
     "execution_count": 32,
     "metadata": {},
     "output_type": "execute_result"
    }
   ],
   "source": [
    "# Función para guardar un DataFrame en un archivo CSV.\n",
    "\n",
    "def guardar_datos_fuera(df, nombre_archivo, carpeta='../data'):\n",
    "    # Crear la carpeta si no existe.\n",
    "    if not os.path.exists(carpeta):\n",
    "        os.makedirs(carpeta)\n",
    "\n",
    "    # Crear la ruta completa del archivo.\n",
    "    ruta_archivo = os.path.join(carpeta, f\"{nombre_archivo}.csv\")\n",
    "\n",
    "    # Guardar el DataFrame como un archivo CSV.\n",
    "    df.to_csv(ruta_archivo, index=False)\n",
    "\n",
    "    print(f\"Archivo guardado en: {ruta_archivo}\")\n",
    "    return ruta_archivo\n",
    "\n",
    "# Ejemplo de uso:\n",
    "guardar_datos_fuera(car_data, 'car_data_clean')\n",
    "guardar_datos_fuera(car_data_input, 'car_data_input_clean')"
   ]
  },
  {
   "cell_type": "markdown",
   "metadata": {},
   "source": [
    "Además, exportamos la variabe `mappings` que nos será útil para interpretar los resultados de nuestra predicción."
   ]
  },
  {
   "cell_type": "code",
   "execution_count": 33,
   "metadata": {},
   "outputs": [],
   "source": [
    "# Guardar la variable en un archivo\n",
    "with open('mappings.pkl', 'wb') as f:\n",
    "    pickle.dump(mappings, f)"
   ]
  }
 ],
 "metadata": {
  "kernelspec": {
   "display_name": "base",
   "language": "python",
   "name": "python3"
  },
  "language_info": {
   "codemirror_mode": {
    "name": "ipython",
    "version": 3
   },
   "file_extension": ".py",
   "mimetype": "text/x-python",
   "name": "python",
   "nbconvert_exporter": "python",
   "pygments_lexer": "ipython3",
   "version": "3.9.12"
  },
  "vscode": {
   "interpreter": {
    "hash": "69e361201045b1e54ca5451d64ae6cbebd676041fb777305b3d09b1c4fb2d759"
   }
  }
 },
 "nbformat": 4,
 "nbformat_minor": 2
}
